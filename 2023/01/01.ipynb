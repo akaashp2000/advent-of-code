{
 "cells": [
  {
   "cell_type": "markdown",
   "metadata": {},
   "source": [
    "# Setup"
   ]
  },
  {
   "cell_type": "code",
   "execution_count": null,
   "metadata": {},
   "outputs": [],
   "source": [
    "from dotenv import load_dotenv\n",
    "\n",
    "_ = load_dotenv()"
   ]
  },
  {
   "cell_type": "code",
   "execution_count": null,
   "metadata": {},
   "outputs": [],
   "source": [
    "from aocd import submit\n",
    "from aocd.models import Puzzle"
   ]
  },
  {
   "cell_type": "code",
   "execution_count": null,
   "metadata": {},
   "outputs": [],
   "source": [
    "puzzle = Puzzle(year=2023, day=1)"
   ]
  },
  {
   "cell_type": "code",
   "execution_count": null,
   "metadata": {},
   "outputs": [],
   "source": [
    "example_input, example_soln_a, example_soln_b = puzzle.examples[0].input_data, *puzzle.examples[0].answers\n",
    "input = puzzle.input_data"
   ]
  },
  {
   "cell_type": "markdown",
   "metadata": {},
   "source": [
    "# Part A"
   ]
  },
  {
   "cell_type": "code",
   "execution_count": null,
   "metadata": {},
   "outputs": [],
   "source": [
    "def solution_a(input: str):\n",
    "    def get_int(line):\n",
    "        ints = [int(char) for char in line if char.isnumeric()]\n",
    "        return 10 * ints[0] + ints[-1]\n",
    "    return sum(get_int(line) for line in input.split('\\n'))"
   ]
  },
  {
   "cell_type": "code",
   "execution_count": null,
   "metadata": {},
   "outputs": [],
   "source": [
    "print(\"Part A example solution:\", solution_a(input=example_input))\n",
    "print(\"Part A example answer:\", example_soln_a)"
   ]
  },
  {
   "cell_type": "code",
   "execution_count": null,
   "metadata": {},
   "outputs": [],
   "source": [
    "solution_a_output = solution_a(input=input)\n",
    "print(\"Part A solution:\", solution_a_output,'\\n'+\"-\"*60)\n",
    "submit(solution_a_output, day=1, year=2023, part=\"a\")"
   ]
  },
  {
   "cell_type": "markdown",
   "metadata": {},
   "source": [
    "# Part B"
   ]
  },
  {
   "cell_type": "code",
   "execution_count": null,
   "metadata": {},
   "outputs": [],
   "source": [
    "import re"
   ]
  },
  {
   "cell_type": "code",
   "execution_count": null,
   "metadata": {},
   "outputs": [],
   "source": [
    "mapping = {_str: str(index+1) for index, _str in enumerate([\"one\", \"two\", \"three\", \"four\", \"five\", \"six\", \"seven\", \"eight\", \"nine\"])}\n",
    "pattern = re.compile('|'.join(map(re.escape, mapping.keys())))\n",
    "\n",
    "def simplify_start(line):\n",
    "    while pattern.search(line[:-1]):\n",
    "        line = simplify_start(line[:-1]) + line[-1]\n",
    "    return pattern.sub(lambda match: mapping[match.group(0)], line)\n",
    "\n",
    "def simplify_end(line):\n",
    "    while pattern.search(line[1:]):\n",
    "        line = line[0] + simplify_end(line[1:])\n",
    "    return pattern.sub(lambda match: mapping[match.group(0)], line)"
   ]
  },
  {
   "cell_type": "code",
   "execution_count": null,
   "metadata": {},
   "outputs": [],
   "source": [
    "def solution_b(input: str):    \n",
    "\n",
    "    def get_int(line):\n",
    "        ints_start = [int(char) for char in simplify_start(line) if char.isnumeric()]\n",
    "        ints_end = [int(char) for char in simplify_end(line) if char.isnumeric()]\n",
    "        return 10 * ints_start[0] + ints_end[-1]\n",
    "    \n",
    "    return sum(get_int(line) for line in input.split('\\n'))"
   ]
  },
  {
   "cell_type": "code",
   "execution_count": null,
   "metadata": {},
   "outputs": [],
   "source": [
    "\"\"\"\n",
    "AOCD didn't pick up the second example input.\n",
    "\"\"\"\n",
    "\n",
    "example_input = \"\"\"two1nine\n",
    "eightwothree\n",
    "abcone2threexyz\n",
    "xtwone3four\n",
    "4nineeightseven2\n",
    "zoneight234\n",
    "7pqrstsixteen\"\"\""
   ]
  },
  {
   "cell_type": "code",
   "execution_count": null,
   "metadata": {},
   "outputs": [],
   "source": [
    "print(\"Part B example solution:\", solution_b(input=example_input))\n",
    "print(\"Part B example answer:\", example_soln_b)"
   ]
  },
  {
   "cell_type": "code",
   "execution_count": null,
   "metadata": {},
   "outputs": [],
   "source": [
    "solution_b_output = solution_b(input=input)\n",
    "print(\"Part B solution:\", solution_b_output,'\\n'+\"-\"*60)\n",
    "submit(solution_b_output, day=1, year=2023, part=\"b\")"
   ]
  }
 ],
 "metadata": {
  "kernelspec": {
   "display_name": "venv",
   "language": "python",
   "name": "python3"
  },
  "language_info": {
   "codemirror_mode": {
    "name": "ipython",
    "version": 3
   },
   "file_extension": ".py",
   "mimetype": "text/x-python",
   "name": "python",
   "nbconvert_exporter": "python",
   "pygments_lexer": "ipython3",
   "version": "3.10.12"
  }
 },
 "nbformat": 4,
 "nbformat_minor": 2
}
