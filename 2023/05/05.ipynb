{
 "cells": [
  {
   "cell_type": "markdown",
   "metadata": {},
   "source": [
    "# Setup"
   ]
  },
  {
   "cell_type": "code",
   "execution_count": null,
   "metadata": {},
   "outputs": [],
   "source": [
    "from dotenv import load_dotenv\n",
    "\n",
    "_ = load_dotenv()"
   ]
  },
  {
   "cell_type": "code",
   "execution_count": null,
   "metadata": {},
   "outputs": [],
   "source": [
    "from aocd import submit\n",
    "from aocd.models import Puzzle"
   ]
  },
  {
   "cell_type": "code",
   "execution_count": null,
   "metadata": {},
   "outputs": [],
   "source": [
    "puzzle = Puzzle(year=2023, day=5)"
   ]
  },
  {
   "cell_type": "code",
   "execution_count": null,
   "metadata": {},
   "outputs": [],
   "source": [
    "example_input, example_soln_a, example_soln_b = (\n",
    "    puzzle.examples[0].input_data,\n",
    "    *puzzle.examples[0].answers,\n",
    ")\n",
    "input = puzzle.input_data"
   ]
  },
  {
   "cell_type": "markdown",
   "metadata": {},
   "source": [
    "# Part A"
   ]
  },
  {
   "cell_type": "code",
   "execution_count": null,
   "metadata": {},
   "outputs": [],
   "source": [
    "def solution_a(input: str):\n",
    "    input = [line for line in input.split(\"\\n\") if len(line) > 0]\n",
    "    mappings = {}\n",
    "    for line in input:\n",
    "        if \"seeds: \" in line:\n",
    "            seeds = list(map(int, line.split(\"seeds: \")[1].split(\" \")))\n",
    "        elif \" map:\" in line:\n",
    "            source, _, destination = line.split(\" map:\")[0].split(\"-\")\n",
    "            mappings[(source, destination)] = []\n",
    "        elif line[0].isnumeric():\n",
    "            destination_start, source_start, map_range = list(map(int, line.split(\" \")))\n",
    "            mappings[(source, destination)] += [\n",
    "                {\n",
    "                    \"source_start\": source_start,\n",
    "                    \"destination_start\": destination_start,\n",
    "                    \"map_range\": map_range,\n",
    "                }\n",
    "            ]\n",
    "\n",
    "    seed_locations = []\n",
    "    for seed in seeds:\n",
    "        seed_location = seed\n",
    "        for (source, destination), map_ranges in mappings.items():\n",
    "            for map_range in map_ranges:\n",
    "                if (\n",
    "                    map_range[\"source_start\"] <= seed_location\n",
    "                    and map_range[\"source_start\"] + map_range[\"map_range\"]\n",
    "                    >= seed_location\n",
    "                ):\n",
    "                    seed_location = (\n",
    "                        seed_location\n",
    "                        - map_range[\"source_start\"]\n",
    "                        + map_range[\"destination_start\"]\n",
    "                    )\n",
    "                    break\n",
    "        seed_locations += [seed_location]\n",
    "\n",
    "    return min(seed_locations)"
   ]
  },
  {
   "cell_type": "code",
   "execution_count": null,
   "metadata": {},
   "outputs": [],
   "source": [
    "print(\"Part A example solution:\", solution_a(input=example_input))\n",
    "print(\"Part A example answer:\", example_soln_a)"
   ]
  },
  {
   "cell_type": "code",
   "execution_count": null,
   "metadata": {},
   "outputs": [],
   "source": [
    "solution_a_output = solution_a(input=input)\n",
    "print(\"Part A solution:\", solution_a_output, \"\\n\" + \"-\" * 60)\n",
    "submit(solution_a_output, day=5, year=2023, part=\"a\")"
   ]
  },
  {
   "cell_type": "markdown",
   "metadata": {},
   "source": [
    "# Part B"
   ]
  },
  {
   "cell_type": "code",
   "execution_count": null,
   "metadata": {},
   "outputs": [],
   "source": [
    "def solution_b(input: str):\n",
    "    import itertools\n",
    "\n",
    "    input = [line for line in input.split(\"\\n\") if len(line) > 0]\n",
    "\n",
    "    def invert_mapping(mappings_list: list):\n",
    "        def inverse(y: int) -> list[int]:\n",
    "            xs = [y]\n",
    "            for source_start, destination_start, width in mappings_list:\n",
    "                if y >= source_start and y <= source_start + width:\n",
    "                    xs = [x for x in xs if x != y]\n",
    "                if y >= destination_start and y <= destination_start + width:\n",
    "                    if y - destination_start + source_start not in xs:\n",
    "                        xs.append(y - destination_start + source_start)\n",
    "            return xs\n",
    "\n",
    "        return inverse\n",
    "\n",
    "    mappings = {}\n",
    "    for line in input:\n",
    "        if \"seeds: \" in line:\n",
    "            line = list(map(int, line.split(\"seeds: \")[1].split(\" \")))\n",
    "            seeds = [(line[2 * i], line[2 * i + 1]) for i in range(int(len(line) / 2))]\n",
    "        elif \" map:\" in line:\n",
    "            source, _, destination = line.split(\" map:\")[0].split(\"-\")\n",
    "            mappings[(source, destination)] = []\n",
    "        elif line[0].isnumeric():\n",
    "            destination_start, source_start, map_range = list(map(int, line.split(\" \")))\n",
    "            mappings[(source, destination)] += [\n",
    "                [\n",
    "                    source_start,\n",
    "                    destination_start,\n",
    "                    map_range,\n",
    "                ]\n",
    "            ]\n",
    "\n",
    "    jump_points = []\n",
    "    for _, mappings_list in list(mappings.items())[::-1]:\n",
    "        jump_points = jump_points + list(\n",
    "            itertools.chain(\n",
    "                *[\n",
    "                    invert_mapping(mappings_list)(jump_point)\n",
    "                    for jump_point in jump_points\n",
    "                ]\n",
    "            )\n",
    "        )\n",
    "        jump_points = jump_points + list(\n",
    "            itertools.chain(\n",
    "                *[\n",
    "                    [mapping_list[0], mapping_list[0] + mapping_list[2]]\n",
    "                    for mapping_list in mappings_list\n",
    "                ]\n",
    "            )\n",
    "        )\n",
    "\n",
    "    jump_points = list(set(jump_points))\n",
    "    seed_jump_points = []\n",
    "    for jump_point in jump_points:\n",
    "        for seed_range in seeds:\n",
    "            if jump_point >= seed_range[0] and jump_point <= sum(seed_range):\n",
    "                seed_jump_points.append(jump_point)\n",
    "            seed_jump_points += [seed_range[0], sum(seed_range)]\n",
    "\n",
    "    seed_jump_points = list(set(seed_jump_points))\n",
    "\n",
    "    seed_locations = []\n",
    "    seeds = seed_jump_points\n",
    "    for seed in seeds:\n",
    "        seed_location = seed\n",
    "        for (source, destination), map_ranges in mappings.items():\n",
    "            for map_range in map_ranges:\n",
    "                if (\n",
    "                    map_range[0] <= seed_location\n",
    "                    and map_range[0] + map_range[2] >= seed_location\n",
    "                ):\n",
    "                    seed_location = seed_location - map_range[0] + map_range[1]\n",
    "                    break\n",
    "        seed_locations += [seed_location]\n",
    "\n",
    "    return min(seed_locations)"
   ]
  },
  {
   "cell_type": "code",
   "execution_count": null,
   "metadata": {},
   "outputs": [],
   "source": [
    "print(\"Part B example solution:\", solution_b(input=example_input))\n",
    "print(\"Part B example answer:\", example_soln_b)"
   ]
  },
  {
   "cell_type": "code",
   "execution_count": null,
   "metadata": {},
   "outputs": [],
   "source": [
    "solution_b_output = solution_b(input=input)\n",
    "print(\"Part B solution:\", solution_b_output, \"\\n\" + \"-\" * 60)\n",
    "submit(solution_b_output, day=5, year=2023, part=\"b\")"
   ]
  }
 ],
 "metadata": {
  "kernelspec": {
   "display_name": "venv",
   "language": "python",
   "name": "python3"
  },
  "language_info": {
   "codemirror_mode": {
    "name": "ipython",
    "version": 3
   },
   "file_extension": ".py",
   "mimetype": "text/x-python",
   "name": "python",
   "nbconvert_exporter": "python",
   "pygments_lexer": "ipython3",
   "version": "3.9.18"
  }
 },
 "nbformat": 4,
 "nbformat_minor": 2
}
