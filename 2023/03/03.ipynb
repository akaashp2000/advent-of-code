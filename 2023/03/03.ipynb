{
 "cells": [
  {
   "cell_type": "markdown",
   "metadata": {},
   "source": [
    "# Setup"
   ]
  },
  {
   "cell_type": "code",
   "execution_count": null,
   "metadata": {},
   "outputs": [],
   "source": [
    "from dotenv import load_dotenv\n",
    "\n",
    "_ = load_dotenv()"
   ]
  },
  {
   "cell_type": "code",
   "execution_count": null,
   "metadata": {},
   "outputs": [],
   "source": [
    "from aocd import submit\n",
    "from aocd.models import Puzzle"
   ]
  },
  {
   "cell_type": "code",
   "execution_count": null,
   "metadata": {},
   "outputs": [],
   "source": [
    "puzzle = Puzzle(year=2023, day=3)"
   ]
  },
  {
   "cell_type": "code",
   "execution_count": null,
   "metadata": {},
   "outputs": [],
   "source": [
    "example_input, example_soln_a, example_soln_b = (\n",
    "    puzzle.examples[0].input_data,\n",
    "    *puzzle.examples[0].answers,\n",
    ")\n",
    "input = puzzle.input_data"
   ]
  },
  {
   "cell_type": "markdown",
   "metadata": {},
   "source": [
    "# Part A"
   ]
  },
  {
   "cell_type": "code",
   "execution_count": null,
   "metadata": {},
   "outputs": [],
   "source": [
    "def solution_a(input: str):\n",
    "    import numpy as np\n",
    "    import re\n",
    "    input = input.split(\"\\n\")\n",
    "    input = [['.'] + list(line) + ['.'] for line in input]\n",
    "    input = [['.'] * len(input[0])] + input + [['.'] * len(input[0])]\n",
    "    input = np.array(input)\n",
    "    total = 0\n",
    "    for i in range(input.shape[0]):\n",
    "        checked = []\n",
    "        for j in range(len(input[i])):\n",
    "            if input[i][j].isnumeric() and j not in checked:\n",
    "                int_str = re.split(r'\\D', ''.join(input[i][j:]))[0]\n",
    "                adjacent_chars = input[i-1:i+2,j-1:j+len(int_str)+1].reshape(-1)\n",
    "                adjacent = 1 if len([char for char in adjacent_chars if char not in ['.'] + [str(i) for i in range(10)]]) > 0 else 0\n",
    "                total += int(int_str) * adjacent\n",
    "                checked += list(range(j, j+len(int_str)+1))\n",
    "    return total"
   ]
  },
  {
   "cell_type": "code",
   "execution_count": null,
   "metadata": {},
   "outputs": [],
   "source": [
    "print(\"Part A example solution:\", solution_a(input=example_input))\n",
    "print(\"Part A example answer:\", example_soln_a)"
   ]
  },
  {
   "cell_type": "code",
   "execution_count": null,
   "metadata": {},
   "outputs": [],
   "source": [
    "solution_a_output = solution_a(input=input)\n",
    "print(\"Part A solution:\", solution_a_output, \"\\n\" + \"-\" * 60)\n",
    "submit(solution_a_output, day=3, year=2023, part=\"a\")"
   ]
  },
  {
   "cell_type": "markdown",
   "metadata": {},
   "source": [
    "# Part B"
   ]
  },
  {
   "cell_type": "code",
   "execution_count": null,
   "metadata": {},
   "outputs": [],
   "source": [
    "def solution_b(input: str):\n",
    "    import numpy as np\n",
    "    import re\n",
    "    import itertools\n",
    "    input = input.split(\"\\n\")\n",
    "    input = [['.'] + list(line) + ['.'] for line in input]\n",
    "    input = [['.'] * len(input[0])] + input + [['.'] * len(input[0])]\n",
    "    input = np.array(input)\n",
    "    total = 0\n",
    "    adjacent_star = {}\n",
    "    for i in range(input.shape[0]):\n",
    "        checked = []\n",
    "        for j in range(len(input[i])):\n",
    "            if input[i][j].isnumeric() and j not in checked:\n",
    "                int_str = re.split(r'\\D', ''.join(input[i][j:]))[0]\n",
    "                adjacent_chars = input[i-1:i+2,j-1:j+len(int_str)+1].reshape(-1)\n",
    "                adjacent = 1 if len([char for char in adjacent_chars if char not in ['.'] + [str(i) for i in range(10)]]) > 0 else 0\n",
    "                if adjacent == 1:\n",
    "                    adjacent_star[(i, j, int(int_str))] = [(_i, _j) for _i, _j in itertools.product(range(i-1, i+2), range(j-1, j+len(int_str)+1)) if input[_i, _j] == '*']\n",
    "                checked += list(range(j, j+len(int_str)+1))\n",
    "\n",
    "    adjacent_star_inverse = {}\n",
    "    for v in list(set(itertools.chain(*[v for _, v in adjacent_star.items()]))):\n",
    "        adjacent_star_inverse[v] = [k for k, _v in adjacent_star.items() if v in _v]\n",
    "\n",
    "    for k, v in adjacent_star_inverse.items():\n",
    "        total += v[0][2] * v[1][2] if len(v) == 2 else 0\n",
    "    return total"
   ]
  },
  {
   "cell_type": "code",
   "execution_count": null,
   "metadata": {},
   "outputs": [],
   "source": [
    "print(\"Part B example solution:\", solution_b(input=example_input))\n",
    "print(\"Part B example answer:\", example_soln_b)"
   ]
  },
  {
   "cell_type": "code",
   "execution_count": null,
   "metadata": {},
   "outputs": [],
   "source": [
    "solution_b_output = solution_b(input=input)\n",
    "print(\"Part B solution:\", solution_b_output, \"\\n\" + \"-\" * 60)\n",
    "submit(solution_b_output, day=3, year=2023, part=\"b\")"
   ]
  }
 ],
 "metadata": {
  "kernelspec": {
   "display_name": "venv",
   "language": "python",
   "name": "python3"
  },
  "language_info": {
   "codemirror_mode": {
    "name": "ipython",
    "version": 3
   },
   "file_extension": ".py",
   "mimetype": "text/x-python",
   "name": "python",
   "nbconvert_exporter": "python",
   "pygments_lexer": "ipython3",
   "version": "3.10.12"
  }
 },
 "nbformat": 4,
 "nbformat_minor": 2
}
