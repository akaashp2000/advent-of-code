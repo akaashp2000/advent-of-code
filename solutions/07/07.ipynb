{
 "cells": [
  {
   "cell_type": "markdown",
   "metadata": {},
   "source": [
    "# Setup"
   ]
  },
  {
   "cell_type": "code",
   "execution_count": null,
   "metadata": {},
   "outputs": [],
   "source": [
    "from dotenv import load_dotenv\n",
    "\n",
    "_ = load_dotenv()"
   ]
  },
  {
   "cell_type": "code",
   "execution_count": null,
   "metadata": {},
   "outputs": [],
   "source": [
    "from aocd import submit\n",
    "from aocd.models import Puzzle"
   ]
  },
  {
   "cell_type": "code",
   "execution_count": null,
   "metadata": {},
   "outputs": [],
   "source": [
    "puzzle = Puzzle(year=2023, day=7)"
   ]
  },
  {
   "cell_type": "code",
   "execution_count": null,
   "metadata": {},
   "outputs": [],
   "source": [
    "example_input, example_soln_a, example_soln_b = (\n",
    "    puzzle.examples[0].input_data,\n",
    "    *puzzle.examples[0].answers,\n",
    ")\n",
    "input = puzzle.input_data"
   ]
  },
  {
   "cell_type": "markdown",
   "metadata": {},
   "source": [
    "# Part A"
   ]
  },
  {
   "cell_type": "code",
   "execution_count": null,
   "metadata": {},
   "outputs": [],
   "source": [
    "def solution_a(input: str):\n",
    "    input = {line.split(\" \")[0]: int(line.split(\" \")[1]) for line in input.split(\"\\n\")}\n",
    "    ranking = {str(num): num - 2 for num in range(2, 10)} | {\n",
    "        \"T\": 8,\n",
    "        \"J\": 9,\n",
    "        \"Q\": 10,\n",
    "        \"K\": 11,\n",
    "        \"A\": 12,\n",
    "    }\n",
    "\n",
    "    def rank_score(hand) -> list[int]:\n",
    "        hand = list(hand)\n",
    "        unsorted_hand = hand\n",
    "        hand = sorted(hand, key=lambda card: ranking[card])\n",
    "        if len(set(hand)) in [1, 4, 5]:\n",
    "            rank = {1: 1, 4: 6, 5: 7}[len(set(hand))]\n",
    "        elif len(set(hand)) == 2:\n",
    "            rank = 3 if len(set(hand[:2])) == 1 and len(set(hand[-2:])) == 1 else 2\n",
    "        else:\n",
    "            tok = False\n",
    "            for num in list(set(hand)):\n",
    "                if len([card for card in hand if card == num]) == 3:\n",
    "                    tok = True\n",
    "            rank = 4 if tok else 5\n",
    "\n",
    "        return [rank, *[0 - ranking[card] for card in unsorted_hand]]\n",
    "\n",
    "    return sum(\n",
    "        [\n",
    "            (rank + 1) * input[hand]\n",
    "            for rank, hand in enumerate(sorted(input.keys(), key=rank_score)[::-1])\n",
    "        ]\n",
    "    )"
   ]
  },
  {
   "cell_type": "code",
   "execution_count": null,
   "metadata": {},
   "outputs": [],
   "source": [
    "print(\"Part A example solution:\", solution_a(input=example_input))\n",
    "print(\"Part A example answer:\", example_soln_a)"
   ]
  },
  {
   "cell_type": "code",
   "execution_count": null,
   "metadata": {},
   "outputs": [],
   "source": [
    "solution_a_output = solution_a(input=input)\n",
    "print(\"Part A solution:\", solution_a_output, \"\\n\" + \"-\" * 60)\n",
    "submit(solution_a_output, day=7, year=2023, part=\"a\")"
   ]
  },
  {
   "cell_type": "markdown",
   "metadata": {},
   "source": [
    "# Part B"
   ]
  },
  {
   "cell_type": "code",
   "execution_count": null,
   "metadata": {},
   "outputs": [],
   "source": [
    "def solution_b(input: str):\n",
    "    input = {line.split(\" \")[0]: int(line.split(\" \")[1]) for line in input.split(\"\\n\")}\n",
    "    ranking = {str(num): num - 1 for num in range(2, 10)} | {\n",
    "        \"J\": 0,\n",
    "        \"T\": 9,\n",
    "        \"Q\": 10,\n",
    "        \"K\": 11,\n",
    "        \"A\": 12,\n",
    "    }\n",
    "\n",
    "    def rank_score(hand) -> list[int]:\n",
    "        hand = list(hand)\n",
    "        unsorted_hand = hand\n",
    "        hand = sorted(hand, key=lambda card: ranking[card])\n",
    "\n",
    "        def rank_hand(hand, swap=None):\n",
    "            if swap:\n",
    "                hand = [card if card != \"J\" else swap for card in hand]\n",
    "            if len(set(hand)) in [1, 4, 5]:\n",
    "                rank = {1: 1, 4: 6, 5: 7}[len(set(hand))]\n",
    "            elif len(set(hand)) == 2:\n",
    "                rank = 3 if len(set(hand[:2])) == 1 and len(set(hand[-2:])) == 1 else 2\n",
    "            else:\n",
    "                tok = False\n",
    "                for num in list(set(hand)):\n",
    "                    if len([card for card in hand if card == num]) == 3:\n",
    "                        tok = True\n",
    "                rank = 4 if tok else 5\n",
    "            return rank\n",
    "\n",
    "        if hand == [\"J\"] * 5:\n",
    "            hand = [\"A\"] * 5\n",
    "\n",
    "        max_rank = (\n",
    "            rank_hand(hand)\n",
    "            if \"J\" not in hand\n",
    "            else max(\n",
    "                [rank_hand(hand, swap=card) for card in list(set(hand)) if card != \"J\"]\n",
    "            )\n",
    "        )\n",
    "\n",
    "        return [max_rank, *[0 - ranking[card] for card in unsorted_hand]]\n",
    "\n",
    "    return sum(\n",
    "        [\n",
    "            (rank + 1) * input[hand]\n",
    "            for rank, hand in enumerate(sorted(input.keys(), key=rank_score)[::-1])\n",
    "        ]\n",
    "    )"
   ]
  },
  {
   "cell_type": "code",
   "execution_count": null,
   "metadata": {},
   "outputs": [],
   "source": [
    "print(\"Part B example solution:\", solution_b(input=example_input))\n",
    "print(\"Part B example answer:\", example_soln_b)"
   ]
  },
  {
   "cell_type": "code",
   "execution_count": null,
   "metadata": {},
   "outputs": [],
   "source": [
    "solution_b_output = solution_b(input=input)\n",
    "print(\"Part B solution:\", solution_b_output, \"\\n\" + \"-\" * 60)\n",
    "submit(solution_b_output, day=7, year=2023, part=\"b\")"
   ]
  }
 ],
 "metadata": {
  "kernelspec": {
   "display_name": "venv",
   "language": "python",
   "name": "python3"
  },
  "language_info": {
   "codemirror_mode": {
    "name": "ipython",
    "version": 3
   },
   "file_extension": ".py",
   "mimetype": "text/x-python",
   "name": "python",
   "nbconvert_exporter": "python",
   "pygments_lexer": "ipython3",
   "version": "3.9.18"
  }
 },
 "nbformat": 4,
 "nbformat_minor": 2
}
