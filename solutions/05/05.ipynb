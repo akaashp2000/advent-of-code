{
 "cells": [
  {
   "cell_type": "markdown",
   "metadata": {},
   "source": [
    "# Setup"
   ]
  },
  {
   "cell_type": "code",
   "execution_count": 9,
   "metadata": {},
   "outputs": [],
   "source": [
    "from dotenv import load_dotenv\n",
    "\n",
    "_ = load_dotenv()"
   ]
  },
  {
   "cell_type": "code",
   "execution_count": 10,
   "metadata": {},
   "outputs": [],
   "source": [
    "from aocd import submit\n",
    "from aocd.models import Puzzle"
   ]
  },
  {
   "cell_type": "code",
   "execution_count": 11,
   "metadata": {},
   "outputs": [],
   "source": [
    "puzzle = Puzzle(year=2023, day=5)"
   ]
  },
  {
   "cell_type": "code",
   "execution_count": 12,
   "metadata": {},
   "outputs": [],
   "source": [
    "example_input, example_soln_a, example_soln_b = (\n",
    "    puzzle.examples[0].input_data,\n",
    "    *puzzle.examples[0].answers,\n",
    ")\n",
    "input = puzzle.input_data"
   ]
  },
  {
   "cell_type": "markdown",
   "metadata": {},
   "source": [
    "# Part A"
   ]
  },
  {
   "cell_type": "code",
   "execution_count": 18,
   "metadata": {},
   "outputs": [],
   "source": [
    "def solution_a(input: str):\n",
    "    input = [line for line in input.split(\"\\n\") if len(line) > 0]\n",
    "    mappings = {}\n",
    "    for line in input:\n",
    "        if \"seeds: \" in line:\n",
    "            seeds = list(map(int, line.split(\"seeds: \")[1].split(\" \")))\n",
    "        elif \" map:\" in line:\n",
    "            source, _, destination = line.split(\" map:\")[0].split(\"-\")\n",
    "            mappings[(source, destination)] = []\n",
    "        elif line[0].isnumeric():\n",
    "            destination_start, source_start, map_range = list(map(int, line.split(\" \")))\n",
    "            mappings[(source, destination)] += [\n",
    "                {\n",
    "                    \"source_start\": source_start,\n",
    "                    \"destination_start\": destination_start,\n",
    "                    \"map_range\": map_range,\n",
    "                }\n",
    "            ]\n",
    "\n",
    "    seed_locations = []\n",
    "    for seed in seeds:\n",
    "        seed_location = seed\n",
    "        for (source, destination), map_ranges in mappings.items():\n",
    "            for map_range in map_ranges:\n",
    "                if (\n",
    "                    map_range[\"source_start\"] <= seed_location\n",
    "                    and map_range[\"source_start\"] + map_range[\"map_range\"]\n",
    "                    >= seed_location\n",
    "                ):\n",
    "                    seed_location = (\n",
    "                        seed_location\n",
    "                        - map_range[\"source_start\"]\n",
    "                        + map_range[\"destination_start\"]\n",
    "                    )\n",
    "                    break\n",
    "        seed_locations += [seed_location]\n",
    "\n",
    "    return min(seed_locations)"
   ]
  },
  {
   "cell_type": "code",
   "execution_count": 19,
   "metadata": {},
   "outputs": [
    {
     "name": "stdout",
     "output_type": "stream",
     "text": [
      "Part A example solution: 35\n",
      "Part A example answer: 35\n"
     ]
    }
   ],
   "source": [
    "print(\"Part A example solution:\", solution_a(input=example_input))\n",
    "print(\"Part A example answer:\", example_soln_a)"
   ]
  },
  {
   "cell_type": "code",
   "execution_count": 20,
   "metadata": {},
   "outputs": [
    {
     "name": "stdout",
     "output_type": "stream",
     "text": [
      "Part A solution: 457535844 \n",
      "------------------------------------------------------------\n",
      "aocd will not submit that answer again. At 2023-12-05 03:58:02.543263-05:00 you've previously submitted 457535844 and the server responded with:\n",
      "\u001b[32mThat's the right answer!  You are one gold star closer to restoring snow operations. [Continue to Part Two]\u001b[0m\n"
     ]
    }
   ],
   "source": [
    "solution_a_output = solution_a(input=input)\n",
    "print(\"Part A solution:\", solution_a_output, \"\\n\" + \"-\" * 60)\n",
    "submit(solution_a_output, day=5, year=2023, part=\"a\")"
   ]
  },
  {
   "cell_type": "markdown",
   "metadata": {},
   "source": [
    "# Part B"
   ]
  },
  {
   "cell_type": "code",
   "execution_count": 13,
   "metadata": {},
   "outputs": [
    {
     "data": {
      "text/plain": [
       "'seeds: 515785082 87905039 2104518691 503149843 720333403 385234193 1357904101 283386167 93533455 128569683 2844655470 24994629 3934515023 67327818 2655687716 8403417 3120497449 107756881 4055128129 9498708\\n\\nseed-to-soil map:\\n2025334497 3876763368 16729580\\n1877945250 2032519622 95086460\\n0 679167893 381174930\\n717319608 469672599 20842400\\n1677700339 1823837909 22353530\\n634816620 1372848321 73458998\\n2756794066 2812828157 182758452\\n3324095721 3392359690 456362171\\n969898963 32396659 196640650\\n1973031710 2127606082 52302787\\n4095486882 3893492948 33982348\\n381174930 591894131 9141137\\n3247991211 2466896352 76104510\\n1645303680 0 32396659\\n3023330013 4070306098 224661198\\n2329063131 1900645524 131874098\\n2042064077 3115509825 242853312\\n969753308 1446307319 145655\\n4214866116 3035408645 80101180\\n589310441 1846191439 28201780\\n4129469230 2811864212 963945\\n510217282 1276450763 79093159\\n2989333460 3358363137 33996553\\n3780457892 2179908869 286987483\\n738162008 229037309 231591300\\n2460937229 3927475296 26993487\\n1205326488 1547352475 237698559\\n2487930716 2543000862 268863350\\n4170255211 3998614525 21910631\\n1543924548 490514999 101379132\\n1443025047 1446452974 100899501\\n2939552518 4020525156 49780942\\n2284917389 3954468783 44145742\\n617512221 1355543922 17304399\\n4067445375 3848721861 28041507\\n1166539613 1785051034 38786875\\n708275618 460628609 9043990\\n390316067 1156549548 119901215\\n4192165842 1877945250 22700274\\n4130433175 2995586609 39822036\\n1700053869 601035268 78132625\\n1778186494 1060342823 96206725\\n\\nsoil-to-fertilizer map:\\n0 2341619969 92369762\\n1167455233 3617741643 38094704\\n1499102298 1681004272 234557927\\n3376581938 2517836559 179214694\\n2914723756 619913619 149410902\\n161434282 0 41510814\\n3649464352 3314750891 40779782\\n2317356783 1915562199 186244783\\n713485962 950249988 47781849\\n421834722 1125088099 56442466\\n2507552861 3655836347 34407787\\n3565617524 2433989731 83846828\\n2678581348 103843947 189846804\\n995696604 565539077 54374542\\n410018942 2894022626 11815780\\n938203483 303511643 57493121\\n586429700 998031837 127056262\\n3064134658 1533041508 147962764\\n2219062401 2305658720 35961249\\n2050866563 393391944 168195838\\n3803001923 4143671264 151296032\\n814953468 2101806982 123250015\\n1050071146 1508839376 17695066\\n2629883889 1526534442 6507066\\n92369762 3199390767 69064520\\n3212097422 3355530673 164484516\\n4049139793 3803001923 245827503\\n2541960648 3549487250 55536061\\n2255023650 41510814 62333133\\n478277188 842097476 108152512\\n213047569 2697051253 196971373\\n3954297955 4048829426 48488938\\n4002786893 4097318364 46352900\\n1733660225 1181530565 317206338\\n2649109287 3520015189 29472061\\n2636390955 3605023311 12718332\\n2503601566 561587782 3951295\\n202945096 1498736903 10102473\\n1140539167 2278742654 26916066\\n3555796632 293690751 9820892\\n1205549937 2905838406 293552361\\n1067766212 769324521 72772955\\n2597496709 361004764 32387180\\n761267811 2225056997 53685657\\n2868428152 3268455287 46295604\\n\\nfertilizer-to-water map:\\n152178464 250673346 55422\\n152233886 237175480 13497866\\n3154188384 1047083609 4715554\\n3582007164 1051799163 5818075\\n3259979115 2494521724 322028049\\n402907232 308602731 62253347\\n4236473989 2233392950 58493307\\n2707774309 1208011821 30397527\\n3587825239 2917624950 58473157\\n896622971 631491687 63460153\\n465160579 250728768 57873963\\n165731752 0 237175480\\n2439165 370856078 149739299\\n3074181106 3899730566 80007278\\n3059559654 1999627040 14621452\\n1312214893 3041353489 50783396\\n960083124 694951840 352131769\\n2680544515 1972397246 27229794\\n631491687 1238409348 57882415\\n3646298396 3092136885 387540126\\n2592786348 2014248492 87758167\\n1513392872 3479677011 420053555\\n2509534881 1681896910 83251467\\n0 520595377 2439165\\n2738171836 1352203735 287691765\\n1362998289 1057617238 150394583\\n3158903938 2816549773 101075177\\n4033838522 2291886257 202635467\\n1933446427 1296291763 55911972\\n689374102 1765148377 207248869\\n2152304019 1639895500 42001410\\n1989358399 2135702712 97690238\\n3025863601 2102006659 33696053\\n2087048637 2976098107 65255382\\n2194305429 3979737844 315229452\\n\\nwater-to-light map:\\n2953662638 2442860750 178173989\\n1541545030 2734817557 190358536\\n754320741 167246313 76339023\\n1856345147 4205331132 89636164\\n4252036650 1935658232 42930646\\n155447228 526835738 21442665\\n854896092 243585336 283250402\\n1353462278 548278403 77281269\\n3280902948 2925176093 9989800\\n1430743547 1124319386 47116063\\n3675997643 3263466919 126502268\\n3189943537 3895004042 77007091\\n3439702455 2103030459 136553424\\n1836535231 2083220543 19809916\\n1207650119 1274680470 145812159\\n2726058004 2958658296 227604634\\n3131836627 4078001241 58106910\\n3290892748 4136108151 65420425\\n1138146494 74127343 49701217\\n320969084 0 74127343\\n3356313173 4038105259 39895982\\n2313549351 2239583883 7585248\\n3908092261 2247169131 195691619\\n205670012 625559672 115299072\\n830659764 1100083058 24236328\\n3424990872 3972011133 14711583\\n80982326 1171435449 74464902\\n3576255879 1835916468 99741764\\n176889893 1245900351 28780119\\n395096427 740858744 359224314\\n2533259155 1541545030 192798849\\n3396209155 2706035840 28781717\\n1945981311 4201528576 3802556\\n0 123828560 23615345\\n3802499911 3789411692 105592350\\n1949783867 3986722716 51382543\\n2509766752 2935165893 23492403\\n4167035549 2621034739 85001101\\n23615345 1420492629 57366981\\n3266950628 3249514599 13952320\\n1731903566 1978588878 104631665\\n2211976762 1734343879 101572589\\n2001166410 3578601340 210810352\\n2321134599 3389969187 188632153\\n1187847711 147443905 19802408\\n4103783880 3186262930 63251669\\n\\nlight-to-temperature map:\\n70532163 2072528772 6548798\\n4144686847 1559382043 150280449\\n54527625 2056524234 16004538\\n3807793247 2758133633 336893600\\n650952420 859025504 83666107\\n1904509744 3183659444 2786814\\n780330456 3472688125 531542959\\n77080961 54527625 154573827\\n2350216539 1865381176 99600417\\n3084022977 1715376404 150004772\\n2107664798 4058224014 213619824\\n1773073526 793980359 19333216\\n231654788 2452888407 305245226\\n3781460885 2030191872 26332362\\n2939630982 2331937347 79772249\\n560023472 1070561556 50945056\\n2478552333 1313852724 245529319\\n3234027749 526405562 267574797\\n536900014 4271843838 23123458\\n1873309968 1709662492 5713912\\n1879023880 2427402543 25485864\\n2724081652 2116388017 215549330\\n1922425580 2079077570 37310447\\n734618527 813313575 45711929\\n1702870875 971426988 70202651\\n3019403231 3186446258 64619746\\n3767451847 4044214976 14009038\\n3575105735 1121506612 192346112\\n1959736027 3324759354 147928771\\n1792406742 2411709596 15692947\\n1808099689 1964981593 65210279\\n1907296558 3095027233 15129022\\n1311873415 209101452 317304110\\n2449816956 942691611 28735377\\n610968528 4004231084 39983892\\n2321284622 1041629639 28931917\\n3501602546 3110156255 73503189\\n1629177525 3251066004 73693350\\n\\ntemperature-to-humidity map:\\n2698939019 1899653215 333343198\\n636293562 2781983613 635230295\\n3050376312 0 239799964\\n92201313 2779048878 2934735\\n3290176276 2660814640 25026650\\n2134083411 2489247727 2136257\\n3851297241 3604655691 314442217\\n1483568567 866597732 152309188\\n333293267 1018906920 303000295\\n0 2685841290 1438147\\n1635877755 2687279437 53836876\\n3032282217 2471153632 18094095\\n26400590 1558914368 65800723\\n1271523857 1346869658 212044710\\n2136219668 239799964 524786786\\n2661006454 2741116313 37932565\\n1859145287 1624715091 274938124\\n1689714631 2491383984 169430656\\n1438147 1321907215 24962443\\n3315202926 764586750 102010982\\n95136048 2232996413 238157219\\n3604655691 3919097908 90929169\\n3695584860 4010027077 155712381\\n\\nhumidity-to-location map:\\n2245504116 1166524785 164267337\\n2409771453 1729601904 604997365\\n120247692 2545941209 34587342\\n3116311219 3036964896 76986730\\n1512620570 0 147162638\\n3512343576 4259469787 35497509\\n1169583301 1336067922 123578155\\n3921210971 3312190478 126745070\\n2181345242 2427978815 64158874\\n0 1459646077 120247692\\n4223038352 3474502707 71928944\\n779681654 1579893769 149708135\\n3894412843 3962661335 26798128\\n1659783208 1330792122 5275800\\n500368604 393220323 51352254\\n3686138511 3754387003 208274332\\n632498588 2492137689 53803520\\n1135055763 147162638 34527538\\n686302108 2334599269 93379546\\n551720858 2731943364 80777730\\n306544451 181690176 42409340\\n4115726396 3237074496 75115982\\n3547841085 4014859186 138297426\\n3080744060 3438935548 35567159\\n1293161456 2812721094 202047724\\n929389789 960858811 205665974\\n4190842378 3113951626 32195974\\n1736823657 516337226 444521585\\n154835034 224099516 151709417\\n3036964896 3614528274 43779164\\n1495209180 375808933 17411390\\n1665059008 444572577 71764649\\n348953791 2580528551 151414813\\n3299611124 3546431651 68096623\\n3421416680 3146147600 90926896\\n4047956041 3989459463 25399723\\n3367707747 3700678070 53708933\\n4073355764 3658307438 42370632\\n3193297949 4153156612 106313175'"
      ]
     },
     "execution_count": 13,
     "metadata": {},
     "output_type": "execute_result"
    }
   ],
   "source": [
    "input"
   ]
  },
  {
   "cell_type": "code",
   "execution_count": 28,
   "metadata": {},
   "outputs": [],
   "source": [
    "def solution_b(input: str):\n",
    "    import itertools\n",
    "\n",
    "    input = [line for line in input.split(\"\\n\") if len(line) > 0]\n",
    "    mappings = {}\n",
    "    for line in input:\n",
    "        if \"seeds: \" in line:\n",
    "            line = list(map(int, line.split(\"seeds: \")[1].split(\" \")))\n",
    "            seeds = list(\n",
    "                itertools.chain(\n",
    "                    *[\n",
    "                        list(range(line[2 * i], line[2 * i + 1] + 1))\n",
    "                        for i in range(int(len(line) / 2))\n",
    "                    ]\n",
    "                )\n",
    "            )\n",
    "        elif \" map:\" in line:\n",
    "            source, _, destination = line.split(\" map:\")[0].split(\"-\")\n",
    "            mappings[(source, destination)] = []\n",
    "        elif line[0].isnumeric():\n",
    "            destination_start, source_start, map_range = list(map(int, line.split(\" \")))\n",
    "            mappings[(source, destination)] += [\n",
    "                {\n",
    "                    \"source_start\": source_start,\n",
    "                    \"destination_start\": destination_start,\n",
    "                    \"map_range\": map_range,\n",
    "                }\n",
    "            ]\n",
    "    print(seeds)\n",
    "    seed_locations = []\n",
    "    for seed in seeds:\n",
    "        seed_location = seed\n",
    "        for (source, destination), map_ranges in mappings.items():\n",
    "            for map_range in map_ranges:\n",
    "                if (\n",
    "                    map_range[\"source_start\"] <= seed_location\n",
    "                    and map_range[\"source_start\"] + map_range[\"map_range\"]\n",
    "                    >= seed_location\n",
    "                ):\n",
    "                    seed_location = (\n",
    "                        seed_location\n",
    "                        - map_range[\"source_start\"]\n",
    "                        + map_range[\"destination_start\"]\n",
    "                    )\n",
    "                    break\n",
    "        seed_locations += [seed_location]\n",
    "\n",
    "    return min(seed_locations)"
   ]
  },
  {
   "cell_type": "code",
   "execution_count": 29,
   "metadata": {},
   "outputs": [
    {
     "name": "stdout",
     "output_type": "stream",
     "text": [
      "[]\n"
     ]
    },
    {
     "ename": "ValueError",
     "evalue": "min() arg is an empty sequence",
     "output_type": "error",
     "traceback": [
      "\u001b[0;31m---------------------------------------------------------------------------\u001b[0m",
      "\u001b[0;31mValueError\u001b[0m                                Traceback (most recent call last)",
      "\u001b[1;32m/Users/d0055315_akaash_patel/Downloads/advent-of-code-2023/solutions/05/05.ipynb Cell 13\u001b[0m line \u001b[0;36m1\n\u001b[0;32m----> <a href='vscode-notebook-cell:/Users/d0055315_akaash_patel/Downloads/advent-of-code-2023/solutions/05/05.ipynb#X14sZmlsZQ%3D%3D?line=0'>1</a>\u001b[0m \u001b[39mprint\u001b[39m(\u001b[39m\"\u001b[39m\u001b[39mPart B example solution:\u001b[39m\u001b[39m\"\u001b[39m, solution_b(\u001b[39minput\u001b[39;49m\u001b[39m=\u001b[39;49mexample_input))\n\u001b[1;32m      <a href='vscode-notebook-cell:/Users/d0055315_akaash_patel/Downloads/advent-of-code-2023/solutions/05/05.ipynb#X14sZmlsZQ%3D%3D?line=1'>2</a>\u001b[0m \u001b[39mprint\u001b[39m(\u001b[39m\"\u001b[39m\u001b[39mPart B example answer:\u001b[39m\u001b[39m\"\u001b[39m, example_soln_b)\n",
      "\u001b[1;32m/Users/d0055315_akaash_patel/Downloads/advent-of-code-2023/solutions/05/05.ipynb Cell 13\u001b[0m line \u001b[0;36m4\n\u001b[1;32m     <a href='vscode-notebook-cell:/Users/d0055315_akaash_patel/Downloads/advent-of-code-2023/solutions/05/05.ipynb#X14sZmlsZQ%3D%3D?line=36'>37</a>\u001b[0m                 \u001b[39mbreak\u001b[39;00m\n\u001b[1;32m     <a href='vscode-notebook-cell:/Users/d0055315_akaash_patel/Downloads/advent-of-code-2023/solutions/05/05.ipynb#X14sZmlsZQ%3D%3D?line=37'>38</a>\u001b[0m     seed_locations \u001b[39m+\u001b[39m\u001b[39m=\u001b[39m [seed_location]\n\u001b[0;32m---> <a href='vscode-notebook-cell:/Users/d0055315_akaash_patel/Downloads/advent-of-code-2023/solutions/05/05.ipynb#X14sZmlsZQ%3D%3D?line=39'>40</a>\u001b[0m \u001b[39mreturn\u001b[39;00m \u001b[39mmin\u001b[39;49m(seed_locations)\n",
      "\u001b[0;31mValueError\u001b[0m: min() arg is an empty sequence"
     ]
    }
   ],
   "source": [
    "print(\"Part B example solution:\", solution_b(input=example_input))\n",
    "print(\"Part B example answer:\", example_soln_b)"
   ]
  },
  {
   "cell_type": "code",
   "execution_count": null,
   "metadata": {},
   "outputs": [],
   "source": [
    "solution_b_output = solution_b(input=input)\n",
    "print(\"Part B solution:\", solution_b_output, \"\\n\" + \"-\" * 60)\n",
    "submit(solution_b_output, day=5, year=2023, part=\"b\")"
   ]
  }
 ],
 "metadata": {
  "kernelspec": {
   "display_name": "venv",
   "language": "python",
   "name": "python3"
  },
  "language_info": {
   "codemirror_mode": {
    "name": "ipython",
    "version": 3
   },
   "file_extension": ".py",
   "mimetype": "text/x-python",
   "name": "python",
   "nbconvert_exporter": "python",
   "pygments_lexer": "ipython3",
   "version": "3.9.18"
  }
 },
 "nbformat": 4,
 "nbformat_minor": 2
}
