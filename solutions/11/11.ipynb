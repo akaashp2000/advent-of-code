{
 "cells": [
  {
   "cell_type": "markdown",
   "metadata": {},
   "source": [
    "# Setup"
   ]
  },
  {
   "cell_type": "code",
   "execution_count": null,
   "metadata": {},
   "outputs": [],
   "source": [
    "from dotenv import load_dotenv\n",
    "\n",
    "_ = load_dotenv()"
   ]
  },
  {
   "cell_type": "code",
   "execution_count": null,
   "metadata": {},
   "outputs": [],
   "source": [
    "from aocd import submit\n",
    "from aocd.models import Puzzle"
   ]
  },
  {
   "cell_type": "code",
   "execution_count": null,
   "metadata": {},
   "outputs": [],
   "source": [
    "puzzle = Puzzle(year=2023, day=11)"
   ]
  },
  {
   "cell_type": "code",
   "execution_count": null,
   "metadata": {},
   "outputs": [],
   "source": [
    "example_input, example_soln_a, example_soln_b = (\n",
    "    puzzle.examples[0].input_data,\n",
    "    *puzzle.examples[0].answers,\n",
    ")\n",
    "input = puzzle.input_data"
   ]
  },
  {
   "cell_type": "markdown",
   "metadata": {},
   "source": [
    "# Part A"
   ]
  },
  {
   "cell_type": "code",
   "execution_count": null,
   "metadata": {},
   "outputs": [],
   "source": [
    "def solution_a(input: str):\n",
    "    import numpy as np\n",
    "    from copy import deepcopy\n",
    "    import itertools\n",
    "\n",
    "    input = input.split(\"\\n\")\n",
    "    input = np.array(list(map(list, input)))\n",
    "\n",
    "    def fill_empty_rows(input):\n",
    "        import itertools\n",
    "\n",
    "        return np.array(\n",
    "            list(\n",
    "                itertools.chain(\n",
    "                    *[\n",
    "                        [line] if set(line) != set([\".\"]) else [line] * 2\n",
    "                        for line in input\n",
    "                    ]\n",
    "                )\n",
    "            )\n",
    "        )\n",
    "\n",
    "    input = np.transpose(fill_empty_rows(np.transpose(fill_empty_rows(input))))\n",
    "    xs = []\n",
    "    ys = []\n",
    "\n",
    "    for x, row in list(enumerate(input)):\n",
    "        xs = xs + [x] * sum(np.where(row == \"#\", 1, 0))\n",
    "        for y, entry in list(enumerate(row)):\n",
    "            if entry == \"#\":\n",
    "                ys = ys + [y]\n",
    "\n",
    "    xs = sorted(xs)\n",
    "    ys = sorted(ys)\n",
    "\n",
    "    xs_summary = {k: v for k, v in np.transpose(np.unique(xs, return_counts=True))}\n",
    "    ys_summary = {k: v for k, v in np.transpose(np.unique(ys, return_counts=True))}\n",
    "\n",
    "    return sum(\n",
    "        [\n",
    "            int(\n",
    "                0.5\n",
    "                * sum(\n",
    "                    [\n",
    "                        abs(x0 - x1) * summary[x0] * summary[x1]\n",
    "                        for x0, x1 in itertools.product(summary.keys(), summary.keys())\n",
    "                    ]\n",
    "                )\n",
    "            )\n",
    "            for summary in [xs_summary, ys_summary]\n",
    "        ]\n",
    "    )"
   ]
  },
  {
   "cell_type": "code",
   "execution_count": null,
   "metadata": {},
   "outputs": [],
   "source": [
    "print(\"Part A example solution:\", solution_a(input=example_input))\n",
    "print(\"Part A example answer:\", example_soln_a)"
   ]
  },
  {
   "cell_type": "code",
   "execution_count": null,
   "metadata": {},
   "outputs": [],
   "source": [
    "solution_a_output = solution_a(input=input)\n",
    "print(\"Part A solution:\", solution_a_output, \"\\n\" + \"-\" * 60)\n",
    "submit(solution_a_output, day=11, year=2023, part=\"a\")"
   ]
  },
  {
   "cell_type": "markdown",
   "metadata": {},
   "source": [
    "# Part B"
   ]
  },
  {
   "cell_type": "code",
   "execution_count": null,
   "metadata": {},
   "outputs": [],
   "source": [
    "def solution_b(input: str, pad=1000000):\n",
    "    import numpy as np\n",
    "    from copy import deepcopy\n",
    "    import itertools\n",
    "\n",
    "    input = input.split(\"\\n\")\n",
    "    input = np.array(list(map(list, input)))\n",
    "\n",
    "    xs = []\n",
    "    ys = []\n",
    "\n",
    "    for x, row in list(enumerate(input)):\n",
    "        xs = xs + [x] * sum(np.where(row == \"#\", 1, 0))\n",
    "        for y, entry in list(enumerate(row)):\n",
    "            if entry == \"#\":\n",
    "                ys = ys + [y]\n",
    "\n",
    "    xs = sorted(xs)\n",
    "    ys = sorted(ys)\n",
    "\n",
    "    xs_summary = {k: v for k, v in np.transpose(np.unique(xs, return_counts=True))}\n",
    "    ys_summary = {k: v for k, v in np.transpose(np.unique(ys, return_counts=True))}\n",
    "\n",
    "    xs_summary = {k: xs_summary[k] for k in sorted(xs_summary.keys())}\n",
    "    ys_summary = {k: ys_summary[k] for k in sorted(ys_summary.keys())}\n",
    "\n",
    "    \"\"\"So far xs_summary and ys_summary are of the values when no padding is applied\"\"\"\n",
    "\n",
    "    xs_summary_new = {}\n",
    "    gaps = list(xs_summary.keys())[0]\n",
    "    for idx, k in list(enumerate(xs_summary.keys())):\n",
    "        xs_summary_new[k + (pad - 1) * (k - idx)] = xs_summary[k]\n",
    "\n",
    "    ys_summary_new = {}\n",
    "    gaps = list(ys_summary.keys())[0]\n",
    "    for idx, k in list(enumerate(ys_summary.keys())):\n",
    "        ys_summary_new[k + (pad - 1) * (k - idx)] = ys_summary[k]\n",
    "\n",
    "    xs_summary = deepcopy(xs_summary_new)\n",
    "    ys_summary = deepcopy(ys_summary_new)\n",
    "\n",
    "    return sum(\n",
    "        [\n",
    "            int(\n",
    "                0.5\n",
    "                * sum(\n",
    "                    [\n",
    "                        abs(x0 - x1) * summary[x0] * summary[x1]\n",
    "                        for x0, x1 in itertools.product(summary.keys(), summary.keys())\n",
    "                    ]\n",
    "                )\n",
    "            )\n",
    "            for summary in [xs_summary, ys_summary]\n",
    "        ]\n",
    "    )"
   ]
  },
  {
   "cell_type": "code",
   "execution_count": null,
   "metadata": {},
   "outputs": [],
   "source": [
    "print(\"Part B example solution:\", solution_b(input=example_input, pad=100))\n",
    "print(\"Part B example answer:\", example_soln_b)"
   ]
  },
  {
   "cell_type": "code",
   "execution_count": null,
   "metadata": {},
   "outputs": [],
   "source": [
    "solution_b_output = solution_b(input=input)\n",
    "print(\"Part B solution:\", solution_b_output, \"\\n\" + \"-\" * 60)\n",
    "submit(solution_b_output, day=11, year=2023, part=\"b\")"
   ]
  }
 ],
 "metadata": {
  "kernelspec": {
   "display_name": "venv",
   "language": "python",
   "name": "python3"
  },
  "language_info": {
   "codemirror_mode": {
    "name": "ipython",
    "version": 3
   },
   "file_extension": ".py",
   "mimetype": "text/x-python",
   "name": "python",
   "nbconvert_exporter": "python",
   "pygments_lexer": "ipython3",
   "version": "3.9.18"
  }
 },
 "nbformat": 4,
 "nbformat_minor": 2
}
