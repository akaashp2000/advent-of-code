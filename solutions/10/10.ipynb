{
 "cells": [
  {
   "cell_type": "markdown",
   "metadata": {},
   "source": [
    "# Setup"
   ]
  },
  {
   "cell_type": "code",
   "execution_count": null,
   "metadata": {},
   "outputs": [],
   "source": [
    "from dotenv import load_dotenv\n",
    "\n",
    "_ = load_dotenv()"
   ]
  },
  {
   "cell_type": "code",
   "execution_count": null,
   "metadata": {},
   "outputs": [],
   "source": [
    "from aocd import submit\n",
    "from aocd.models import Puzzle"
   ]
  },
  {
   "cell_type": "code",
   "execution_count": null,
   "metadata": {},
   "outputs": [],
   "source": [
    "puzzle = Puzzle(year=2023, day=10)"
   ]
  },
  {
   "cell_type": "code",
   "execution_count": null,
   "metadata": {},
   "outputs": [],
   "source": [
    "example_input, example_soln_a, example_soln_b = (\n",
    "    puzzle.examples[0].input_data,\n",
    "    *puzzle.examples[0].answers,\n",
    ")\n",
    "input = puzzle.input_data"
   ]
  },
  {
   "cell_type": "markdown",
   "metadata": {},
   "source": [
    "# Part A"
   ]
  },
  {
   "cell_type": "code",
   "execution_count": null,
   "metadata": {},
   "outputs": [],
   "source": [
    "import numpy as np\n",
    "\n",
    "np.where(np.array([[1, 33, 4], [1, 3, 3]]) == 4)"
   ]
  },
  {
   "cell_type": "code",
   "execution_count": null,
   "metadata": {},
   "outputs": [],
   "source": [
    "def solution_a(input: str, example=False):\n",
    "    import numpy as np\n",
    "\n",
    "    input = np.array(list(map(list, input.split(\"\\n\"))))\n",
    "    if example:\n",
    "        input[1, 1] = \"S\"  # error in the aocd example input\n",
    "\n",
    "    start = np.where(input == \"S\")\n",
    "    start = [start[0][0], start[1][0]]\n",
    "\n",
    "    def possible_moves(current):\n",
    "        possible_next = [\n",
    "            (current[0] + di, current[1] + dj)\n",
    "            for di, dj in [(1, 0), (0, 1), (-1, 0), (0, -1)]\n",
    "        ]\n",
    "        possible_steps = [\n",
    "            {\"J\": (1, -1), \"|\": (1, 0), \"L\": (1, 1)},\n",
    "            {\"-\": (0, 1), \"J\": (-1, 1), \"7\": (1, 1)},\n",
    "            {\"7\": (-1, -1), \"|\": (-1, 0), \"F\": (-1, 1)},\n",
    "            {\"-\": (0, -1), \"F\": (1, -1), \"L\": (-1, -1)},\n",
    "        ]\n",
    "        return [\n",
    "            position\n",
    "            for position, maps in zip(possible_next, possible_steps)\n",
    "            if input[position[0], position[1]] in maps.keys()\n",
    "        ]\n",
    "\n",
    "    def get_next_step(current, previous):\n",
    "        if input[current] == \"|\":\n",
    "            out = (\n",
    "                (current[0] + 1, current[1])\n",
    "                if previous[0] < current[0]\n",
    "                else (current[0] - 1, current[1])\n",
    "            )\n",
    "        elif input[current] == \"-\":\n",
    "            out = (\n",
    "                (current[0], current[1] + 1)\n",
    "                if previous[1] < current[1]\n",
    "                else (current[0], current[1] - 1)\n",
    "            )\n",
    "        elif input[current] == \"7\":\n",
    "            out = (\n",
    "                (current[0] + 1, current[1])\n",
    "                if previous[1] < current[1]\n",
    "                else (current[0], current[1] - 1)\n",
    "            )\n",
    "        elif input[current] == \"J\":\n",
    "            out = (\n",
    "                (current[0], current[1] - 1)\n",
    "                if previous[0] < current[0]\n",
    "                else (current[0] - 1, current[1])\n",
    "            )\n",
    "        elif input[current] == \"L\":\n",
    "            out = (\n",
    "                (current[0], current[1] + 1)\n",
    "                if previous[0] < current[0]\n",
    "                else (current[0] - 1, current[1])\n",
    "            )\n",
    "        elif input[current] == \"F\":\n",
    "            out = (\n",
    "                (current[0], current[1] + 1)\n",
    "                if previous[0] > current[0]\n",
    "                else (current[0] + 1, current[1])\n",
    "            )\n",
    "        return out, current\n",
    "\n",
    "    i = 1\n",
    "    bot1, bot2 = possible_moves(start)[0], possible_moves(start)[1]\n",
    "    bot1_init, bot2_init = start, start\n",
    "    while bot1 != bot2:\n",
    "        bot1, bot1_init = get_next_step(bot1, bot1_init)\n",
    "        bot2, bot2_init = get_next_step(bot2, bot2_init)\n",
    "        i += 1\n",
    "\n",
    "    return i"
   ]
  },
  {
   "cell_type": "code",
   "execution_count": null,
   "metadata": {},
   "outputs": [],
   "source": [
    "print(\"Part A example solution:\", solution_a(input=example_input, example=True))\n",
    "print(\"Part A example answer:\", example_soln_a)"
   ]
  },
  {
   "cell_type": "code",
   "execution_count": null,
   "metadata": {},
   "outputs": [],
   "source": [
    "solution_a_output = solution_a(input=input)\n",
    "print(\"Part A solution:\", solution_a_output, \"\\n\" + \"-\" * 60)\n",
    "submit(solution_a_output, day=10, year=2023, part=\"a\")"
   ]
  },
  {
   "cell_type": "markdown",
   "metadata": {},
   "source": [
    "# Part B"
   ]
  },
  {
   "cell_type": "code",
   "execution_count": null,
   "metadata": {},
   "outputs": [],
   "source": [
    "def solution_b(input: str):\n",
    "    pass"
   ]
  },
  {
   "cell_type": "code",
   "execution_count": null,
   "metadata": {},
   "outputs": [],
   "source": [
    "print(\"Part B example solution:\", solution_b(input=example_input))\n",
    "print(\"Part B example answer:\", example_soln_b)"
   ]
  },
  {
   "cell_type": "code",
   "execution_count": null,
   "metadata": {},
   "outputs": [],
   "source": [
    "solution_b_output = solution_b(input=input)\n",
    "print(\"Part B solution:\", solution_b_output, \"\\n\" + \"-\" * 60)\n",
    "submit(solution_b_output, day=10, year=2023, part=\"b\")"
   ]
  }
 ],
 "metadata": {
  "kernelspec": {
   "display_name": "venv",
   "language": "python",
   "name": "python3"
  },
  "language_info": {
   "codemirror_mode": {
    "name": "ipython",
    "version": 3
   },
   "file_extension": ".py",
   "mimetype": "text/x-python",
   "name": "python",
   "nbconvert_exporter": "python",
   "pygments_lexer": "ipython3",
   "version": "3.9.18"
  }
 },
 "nbformat": 4,
 "nbformat_minor": 2
}
