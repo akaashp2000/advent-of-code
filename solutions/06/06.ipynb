{
 "cells": [
  {
   "cell_type": "markdown",
   "metadata": {},
   "source": [
    "# Setup"
   ]
  },
  {
   "cell_type": "code",
   "execution_count": null,
   "metadata": {},
   "outputs": [],
   "source": [
    "from dotenv import load_dotenv\n",
    "\n",
    "_ = load_dotenv()"
   ]
  },
  {
   "cell_type": "code",
   "execution_count": null,
   "metadata": {},
   "outputs": [],
   "source": [
    "from aocd import submit\n",
    "from aocd.models import Puzzle"
   ]
  },
  {
   "cell_type": "code",
   "execution_count": null,
   "metadata": {},
   "outputs": [],
   "source": [
    "puzzle = Puzzle(year=2023, day=6)"
   ]
  },
  {
   "cell_type": "code",
   "execution_count": null,
   "metadata": {},
   "outputs": [],
   "source": [
    "example_input, example_soln_a, example_soln_b = (\n",
    "    puzzle.examples[0].input_data,\n",
    "    *puzzle.examples[0].answers,\n",
    ")\n",
    "input = puzzle.input_data\n",
    "\n",
    "# Manually correct solution for part a\n",
    "\n",
    "example_soln_a = 288"
   ]
  },
  {
   "cell_type": "markdown",
   "metadata": {},
   "source": [
    "# Part A"
   ]
  },
  {
   "cell_type": "code",
   "execution_count": null,
   "metadata": {},
   "outputs": [],
   "source": [
    "def solution_a(input: str):\n",
    "    import re\n",
    "    from math import sqrt\n",
    "\n",
    "    input = input.split(\"\\n\")\n",
    "    input = [\n",
    "        [int(part) for part in re.split(r\"\\D\", line) if part.isnumeric()]\n",
    "        for line in input\n",
    "    ]\n",
    "    roots = [\n",
    "        int((input[0][i] + sqrt(input[0][i] ** 2 - 4 * input[1][i])) / 2 - 0.0000000001)\n",
    "        - int((input[0][i] - sqrt(input[0][i] ** 2 - 4 * input[1][i])) / 2)\n",
    "        for i in range(len(input[0]))\n",
    "    ]\n",
    "    output = 1\n",
    "    for root in roots:\n",
    "        output = output * root\n",
    "    return output"
   ]
  },
  {
   "cell_type": "code",
   "execution_count": null,
   "metadata": {},
   "outputs": [],
   "source": [
    "print(\"Part A example solution:\", solution_a(input=example_input))\n",
    "print(\"Part A example answer:\", example_soln_a)"
   ]
  },
  {
   "cell_type": "code",
   "execution_count": null,
   "metadata": {},
   "outputs": [],
   "source": [
    "solution_a_output = solution_a(input=input)\n",
    "print(\"Part A solution:\", solution_a_output, \"\\n\" + \"-\" * 60)\n",
    "submit(solution_a_output, day=6, year=2023, part=\"a\")"
   ]
  },
  {
   "cell_type": "markdown",
   "metadata": {},
   "source": [
    "# Part B"
   ]
  },
  {
   "cell_type": "code",
   "execution_count": null,
   "metadata": {},
   "outputs": [],
   "source": [
    "def solution_b(input: str):\n",
    "    import re\n",
    "    from math import sqrt\n",
    "\n",
    "    input = input.split(\"\\n\")\n",
    "    input = [\n",
    "        [int(\"\".join([part for part in re.split(r\"\\D\", line) if part.isnumeric()]))]\n",
    "        for line in input\n",
    "    ]\n",
    "    roots = [\n",
    "        int((input[0][i] + sqrt(input[0][i] ** 2 - 4 * input[1][i])) / 2 - 0.0000000001)\n",
    "        - int((input[0][i] - sqrt(input[0][i] ** 2 - 4 * input[1][i])) / 2)\n",
    "        for i in range(len(input[0]))\n",
    "    ]\n",
    "    return roots[0]"
   ]
  },
  {
   "cell_type": "code",
   "execution_count": null,
   "metadata": {},
   "outputs": [],
   "source": [
    "print(\"Part B example solution:\", solution_b(input=example_input))\n",
    "print(\"Part B example answer:\", example_soln_b)"
   ]
  },
  {
   "cell_type": "code",
   "execution_count": null,
   "metadata": {},
   "outputs": [],
   "source": [
    "solution_b_output = solution_b(input=input)\n",
    "print(\"Part B solution:\", solution_b_output, \"\\n\" + \"-\" * 60)\n",
    "submit(solution_b_output, day=6, year=2023, part=\"b\")"
   ]
  }
 ],
 "metadata": {
  "kernelspec": {
   "display_name": "venv",
   "language": "python",
   "name": "python3"
  },
  "language_info": {
   "codemirror_mode": {
    "name": "ipython",
    "version": 3
   },
   "file_extension": ".py",
   "mimetype": "text/x-python",
   "name": "python",
   "nbconvert_exporter": "python",
   "pygments_lexer": "ipython3",
   "version": "3.9.18"
  }
 },
 "nbformat": 4,
 "nbformat_minor": 2
}
