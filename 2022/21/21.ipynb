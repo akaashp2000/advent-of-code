{
 "cells": [
  {
   "cell_type": "markdown",
   "metadata": {},
   "source": [
    "# Setup"
   ]
  },
  {
   "cell_type": "code",
   "execution_count": null,
   "metadata": {},
   "outputs": [],
   "source": [
    "from dotenv import load_dotenv\n",
    "\n",
    "_ = load_dotenv()"
   ]
  },
  {
   "cell_type": "code",
   "execution_count": null,
   "metadata": {},
   "outputs": [],
   "source": [
    "from aocd import submit\n",
    "from aocd.models import Puzzle\n",
    "\n",
    "import decimal"
   ]
  },
  {
   "cell_type": "code",
   "execution_count": null,
   "metadata": {},
   "outputs": [],
   "source": [
    "puzzle = Puzzle(year=2022, day=21)"
   ]
  },
  {
   "cell_type": "code",
   "execution_count": null,
   "metadata": {},
   "outputs": [],
   "source": [
    "example_input, example_soln_a, example_soln_b = (\n",
    "    puzzle.examples[0].input_data,\n",
    "    *puzzle.examples[0].answers,\n",
    ")\n",
    "input = puzzle.input_data"
   ]
  },
  {
   "cell_type": "markdown",
   "metadata": {},
   "source": [
    "# Part A"
   ]
  },
  {
   "cell_type": "code",
   "execution_count": null,
   "metadata": {},
   "outputs": [],
   "source": [
    "def solution_a(input: str):\n",
    "    data = {\n",
    "        y[0]: {\"instruction\": y[1]} for y in [x.split(\": \") for x in input.split(\"\\n\")]\n",
    "    }\n",
    "\n",
    "    for monkey in data.keys():\n",
    "        try:\n",
    "            data[monkey][\"value\"] = int(data[monkey][\"instruction\"])\n",
    "        except:\n",
    "            data[monkey][\"value\"] = None\n",
    "        if len(set([\"*\", \"+\", \"-\", \"/\", \"=\"]) & set(data[monkey][\"instruction\"])) > 0:\n",
    "            data[monkey][\"instruction\"] = data[monkey][\"instruction\"].split(\" \")\n",
    "\n",
    "    inst_to_lambda = {\n",
    "        \"+\": (lambda x, y: x + y),\n",
    "        \"-\": (lambda x, y: x - y),\n",
    "        \"/\": (lambda x, y: x / y),\n",
    "        \"*\": (lambda x, y: x * y),\n",
    "    }\n",
    "\n",
    "    while data[\"root\"][\"value\"] is None:\n",
    "        for monkey in data.keys():\n",
    "            if data[monkey][\"value\"] is None:\n",
    "                try:\n",
    "                    x0 = int(data[data[monkey][\"instruction\"][0]][\"value\"])\n",
    "                    x1 = int(data[data[monkey][\"instruction\"][2]][\"value\"])\n",
    "                    data[monkey][\"value\"] = inst_to_lambda[\n",
    "                        data[monkey][\"instruction\"][1]\n",
    "                    ](x0, x1)\n",
    "                except TypeError:\n",
    "                    pass\n",
    "\n",
    "    return data[\"root\"][\"value\"]"
   ]
  },
  {
   "cell_type": "code",
   "execution_count": null,
   "metadata": {},
   "outputs": [],
   "source": [
    "print(\"Part A example solution:\", solution_a(input=example_input))\n",
    "print(\"Part A example answer:\", example_soln_a)"
   ]
  },
  {
   "cell_type": "code",
   "execution_count": null,
   "metadata": {},
   "outputs": [],
   "source": [
    "solution_a_output = solution_a(input=input)\n",
    "print(\"Part A solution:\", solution_a_output, \"\\n\" + \"-\" * 60)\n",
    "submit(solution_a_output, day=21, year=2022, part=\"a\")"
   ]
  },
  {
   "cell_type": "markdown",
   "metadata": {},
   "source": [
    "# Part B"
   ]
  },
  {
   "cell_type": "code",
   "execution_count": null,
   "metadata": {},
   "outputs": [],
   "source": [
    "# Part 2\n",
    "\n",
    "# we have a function to get the difference between the two inputs for root, which should be zero, from the value for root, initial.\n",
    "# we try initial = 1, 2, ..., 10 and see what the function looks like.\n",
    "\n",
    "initial = 1\n",
    "tracking = []\n",
    "\n",
    "while True:\n",
    "    data = {\n",
    "        y[0]: {\"instruction\": y[1]} for y in [x.split(\": \") for x in input.split(\"\\n\")]\n",
    "    }\n",
    "    for monkey in data.keys():\n",
    "        try:\n",
    "            data[monkey][\"value\"] = int(data[monkey][\"instruction\"])\n",
    "        except:\n",
    "            data[monkey][\"value\"] = None\n",
    "        if len(set([\"*\", \"+\", \"-\", \"/\", \"=\"]) & set(data[monkey][\"instruction\"])) > 0:\n",
    "            data[monkey][\"instruction\"] = data[monkey][\"instruction\"].split(\" \")\n",
    "\n",
    "    data[\"root\"][\"instruction\"][1] = \"-\"\n",
    "    data[\"humn\"][\"value\"] = initial\n",
    "    inst_to_lambda = {\n",
    "        \"+\": (lambda x, y: x + y),\n",
    "        \"-\": (lambda x, y: x - y),\n",
    "        \"/\": (lambda x, y: x / y),\n",
    "        \"*\": (lambda x, y: x * y),\n",
    "    }\n",
    "    while data[\"root\"][\"value\"] is None:\n",
    "        for monkey in data.keys():\n",
    "            if data[monkey][\"value\"] is None:\n",
    "                try:\n",
    "                    x0 = decimal.Decimal(data[data[monkey][\"instruction\"][0]][\"value\"])\n",
    "                    x1 = decimal.Decimal(data[data[monkey][\"instruction\"][2]][\"value\"])\n",
    "                    data[monkey][\"value\"] = inst_to_lambda[\n",
    "                        data[monkey][\"instruction\"][1]\n",
    "                    ](x0, x1)\n",
    "                except TypeError:\n",
    "                    pass\n",
    "\n",
    "    if data[\"root\"][\"value\"] == 0 or initial >= 100:\n",
    "        break\n",
    "    else:\n",
    "        tracking.append(data[\"root\"][\"value\"])\n",
    "\n",
    "    initial += 1"
   ]
  },
  {
   "cell_type": "code",
   "execution_count": null,
   "metadata": {},
   "outputs": [],
   "source": [
    "tracking_change = [tracking[i + 1] - tracking[i] for i in range(len(tracking) - 1)]"
   ]
  },
  {
   "cell_type": "code",
   "execution_count": null,
   "metadata": {},
   "outputs": [],
   "source": [
    "tracking"
   ]
  },
  {
   "cell_type": "code",
   "execution_count": null,
   "metadata": {},
   "outputs": [],
   "source": [
    "tracking_change"
   ]
  },
  {
   "cell_type": "markdown",
   "metadata": {},
   "source": [
    "The difference between root(initial) for consecutive initial = 1,..., 100 looks very constant, so it seems that root is a linear function of initial. This means the root should be at the value below."
   ]
  },
  {
   "cell_type": "code",
   "execution_count": null,
   "metadata": {},
   "outputs": [],
   "source": [
    "-tracking[0] / tracking_change[0]"
   ]
  },
  {
   "cell_type": "markdown",
   "metadata": {},
   "source": [
    "This value is very close to 3305669217839, so we start checking from 3305669217835 instead."
   ]
  },
  {
   "cell_type": "code",
   "execution_count": null,
   "metadata": {},
   "outputs": [],
   "source": [
    "def solution_b(input: str):\n",
    "    # this value is very close to 3305669217839, so we start checking from 3305669217835 instead.\n",
    "\n",
    "    initial = 3305669217835\n",
    "    tracking = []\n",
    "\n",
    "    inst_to_lambda = {\n",
    "        \"+\": (lambda x, y: x + y),\n",
    "        \"-\": (lambda x, y: x - y),\n",
    "        \"/\": (lambda x, y: x / y),\n",
    "        \"*\": (lambda x, y: x * y),\n",
    "    }\n",
    "\n",
    "    while True:\n",
    "        data = {\n",
    "            y[0]: {\"instruction\": y[1]}\n",
    "            for y in [x.split(\": \") for x in input.split(\"\\n\")]\n",
    "        }\n",
    "        for monkey in data.keys():\n",
    "            try:\n",
    "                data[monkey][\"value\"] = int(data[monkey][\"instruction\"])\n",
    "            except:\n",
    "                data[monkey][\"value\"] = None\n",
    "            if (\n",
    "                len(set([\"*\", \"+\", \"-\", \"/\", \"=\"]) & set(data[monkey][\"instruction\"]))\n",
    "                > 0\n",
    "            ):\n",
    "                data[monkey][\"instruction\"] = data[monkey][\"instruction\"].split(\" \")\n",
    "\n",
    "        data[\"root\"][\"instruction\"][1] = \"-\"\n",
    "        data[\"humn\"][\"value\"] = initial\n",
    "        while data[\"root\"][\"value\"] is None:\n",
    "            for monkey in data.keys():\n",
    "                if data[monkey][\"value\"] is None:\n",
    "                    try:\n",
    "                        x0 = decimal.Decimal(\n",
    "                            data[data[monkey][\"instruction\"][0]][\"value\"]\n",
    "                        )\n",
    "                        x1 = decimal.Decimal(\n",
    "                            data[data[monkey][\"instruction\"][2]][\"value\"]\n",
    "                        )\n",
    "                        data[monkey][\"value\"] = inst_to_lambda[\n",
    "                            data[monkey][\"instruction\"][1]\n",
    "                        ](x0, x1)\n",
    "                    except TypeError:\n",
    "                        pass\n",
    "\n",
    "        if data[\"root\"][\"value\"] == 0:\n",
    "            return initial\n",
    "        else:\n",
    "            tracking.append(data[\"root\"][\"value\"])\n",
    "\n",
    "        initial += 1"
   ]
  },
  {
   "cell_type": "code",
   "execution_count": null,
   "metadata": {},
   "outputs": [],
   "source": [
    "solution_b_output = solution_b(input)\n",
    "print(\"Part B solution:\", solution_b_output, \"\\n\" + \"-\" * 60)\n",
    "submit(solution_b_output, day=21, year=2022, part=\"b\")"
   ]
  }
 ],
 "metadata": {
  "kernelspec": {
   "display_name": "venv",
   "language": "python",
   "name": "python3"
  },
  "language_info": {
   "codemirror_mode": {
    "name": "ipython",
    "version": 3
   },
   "file_extension": ".py",
   "mimetype": "text/x-python",
   "name": "python",
   "nbconvert_exporter": "python",
   "pygments_lexer": "ipython3",
   "version": "3.9.18"
  }
 },
 "nbformat": 4,
 "nbformat_minor": 2
}
