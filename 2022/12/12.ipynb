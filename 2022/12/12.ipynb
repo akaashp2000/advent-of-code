{
 "cells": [
  {
   "cell_type": "markdown",
   "metadata": {},
   "source": [
    "# Setup"
   ]
  },
  {
   "cell_type": "code",
   "execution_count": null,
   "metadata": {},
   "outputs": [],
   "source": [
    "from dotenv import load_dotenv\n",
    "import pandas as pd\n",
    "import numpy as np\n",
    "import itertools\n",
    "\n",
    "_ = load_dotenv()"
   ]
  },
  {
   "cell_type": "code",
   "execution_count": null,
   "metadata": {},
   "outputs": [],
   "source": [
    "from aocd import submit\n",
    "from aocd.models import Puzzle"
   ]
  },
  {
   "cell_type": "code",
   "execution_count": null,
   "metadata": {},
   "outputs": [],
   "source": [
    "puzzle = Puzzle(year=2022, day=12)"
   ]
  },
  {
   "cell_type": "code",
   "execution_count": null,
   "metadata": {},
   "outputs": [],
   "source": [
    "example_input, example_soln_a, example_soln_b = (\n",
    "    puzzle.examples[0].input_data,\n",
    "    *puzzle.examples[0].answers,\n",
    ")\n",
    "_input = puzzle.input_data"
   ]
  },
  {
   "cell_type": "code",
   "execution_count": null,
   "metadata": {},
   "outputs": [],
   "source": [
    "class MapGraph:\n",
    "    def __init__(self, vertices, edges, inverted=False):\n",
    "        self.vertices = vertices\n",
    "        self.edges = edges\n",
    "\n",
    "        if inverted:\n",
    "            self.edges = {}\n",
    "\n",
    "    def shortest_distance(self, start, end):\n",
    "        visited = [start]\n",
    "\n",
    "        layers = {0: [start]}\n",
    "        layer = 0\n",
    "        while end not in visited:\n",
    "            layers[layer + 1] = []\n",
    "\n",
    "            for vertex in layers[layer]:\n",
    "                for neighbour in [edge[1] for edge in self.edges[vertex]]:\n",
    "                    if neighbour not in visited:\n",
    "                        layers[layer + 1].append(neighbour)\n",
    "                        visited.append(neighbour)\n",
    "\n",
    "            layer += 1\n",
    "\n",
    "        return layer\n",
    "\n",
    "    def shortest_distance_multiple(self, start, ends):\n",
    "        visited = [start]\n",
    "\n",
    "        layers = {0: [start]}\n",
    "        layer = 0\n",
    "        while True:\n",
    "            layers[layer + 1] = []\n",
    "\n",
    "            for vertex in layers[layer]:\n",
    "                for neighbour in [edge[1] for edge in self.edges[vertex]]:\n",
    "                    if neighbour not in visited:\n",
    "                        layers[layer + 1].append(neighbour)\n",
    "                        visited.append(neighbour)\n",
    "                        if neighbour in ends:\n",
    "                            return layer + 1\n",
    "            layer += 1"
   ]
  },
  {
   "cell_type": "code",
   "execution_count": null,
   "metadata": {},
   "outputs": [],
   "source": [
    "def data_to_df(input: str):\n",
    "    letter_to_number = {\n",
    "        letter: i\n",
    "        for i, letter in list(\n",
    "            enumerate([\"S\", *sorted(\"qwertyuiopasdfghjklzxcvbnm\"), \"E\"])\n",
    "        )\n",
    "    }\n",
    "\n",
    "    data = [[letter_to_number[y] for y in x] for x in input.split(\"\\n\")]\n",
    "\n",
    "    map_df = pd.DataFrame(data)  # (20, 0) and (20, 107) are where we start and end\n",
    "    return map_df\n",
    "\n",
    "\n",
    "def start_end(df, num_letters=26):\n",
    "    for coordinate in list(itertools.product(range(df.shape[0]), range(df.shape[1]))):\n",
    "        if df.iloc[coordinate] == 0:\n",
    "            start = coordinate\n",
    "        elif df.iloc[coordinate] == 27:\n",
    "            end = coordinate\n",
    "\n",
    "    return start, end\n",
    "\n",
    "\n",
    "def children(coordinate, df):\n",
    "    df_width = df.shape[0]\n",
    "    df_height = df.shape[1]\n",
    "    children = [\n",
    "        (coordinate, kid)\n",
    "        for kid in [\n",
    "            (coordinate[0] + 1, coordinate[1]),\n",
    "            (coordinate[0] - 1, coordinate[1]),\n",
    "            (coordinate[0], coordinate[1] + 1),\n",
    "            (coordinate[0], coordinate[1] - 1),\n",
    "        ]\n",
    "        if kid[0] in range(df_width)\n",
    "        and kid[1] in range(df_height)\n",
    "        and df.iloc[kid] <= df.iloc[coordinate] + 1\n",
    "    ]\n",
    "    return children\n",
    "\n",
    "\n",
    "def parents(coordinate, df):\n",
    "    df_width = df.shape[0]\n",
    "    df_height = df.shape[1]\n",
    "    parents = [\n",
    "        (coordinate, parent)\n",
    "        for parent in [\n",
    "            (coordinate[0] + 1, coordinate[1]),\n",
    "            (coordinate[0] - 1, coordinate[1]),\n",
    "            (coordinate[0], coordinate[1] + 1),\n",
    "            (coordinate[0], coordinate[1] - 1),\n",
    "        ]\n",
    "        if parent[0] in range(df_width)\n",
    "        and parent[1] in range(df_height)\n",
    "        and df.iloc[coordinate] <= df.iloc[parent] + 1\n",
    "    ]\n",
    "    return parents\n",
    "\n",
    "\n",
    "def coordinates(df):\n",
    "    return list(itertools.product(range(df.shape[0]), range(df.shape[1])))\n",
    "\n",
    "\n",
    "def connections(df, inverted=False):\n",
    "    if inverted is False:\n",
    "        return {coordinate: children(coordinate, df) for coordinate in coordinates(df)}\n",
    "    else:\n",
    "        return {coordinate: parents(coordinate, df) for coordinate in coordinates(df)}"
   ]
  },
  {
   "cell_type": "markdown",
   "metadata": {},
   "source": [
    "# Part A"
   ]
  },
  {
   "cell_type": "code",
   "execution_count": null,
   "metadata": {},
   "outputs": [],
   "source": [
    "def solution_a(input: str):\n",
    "    map_df = data_to_df(input=input)\n",
    "    graph = MapGraph(coordinates(map_df), connections(map_df))\n",
    "    return graph.shortest_distance(start_end(map_df)[0], start_end(map_df)[1])"
   ]
  },
  {
   "cell_type": "code",
   "execution_count": null,
   "metadata": {},
   "outputs": [],
   "source": [
    "print(\"Part A example solution:\", solution_a(input=example_input))\n",
    "print(\"Part A example answer:\", example_soln_a)"
   ]
  },
  {
   "cell_type": "code",
   "execution_count": null,
   "metadata": {},
   "outputs": [],
   "source": [
    "solution_a_output = solution_a(input=_input)\n",
    "print(\"Part A solution:\", solution_a_output, \"\\n\" + \"-\" * 60)\n",
    "submit(solution_a_output, day=12, year=2022, part=\"a\")"
   ]
  },
  {
   "cell_type": "markdown",
   "metadata": {},
   "source": [
    "# Part B"
   ]
  },
  {
   "cell_type": "code",
   "execution_count": null,
   "metadata": {},
   "outputs": [],
   "source": [
    "def solution_b(input: str):\n",
    "    map_df = data_to_df(input=input)\n",
    "    graph = MapGraph(coordinates(map_df), connections(map_df))\n",
    "\n",
    "    check = [y for y in graph.vertices if map_df.iloc[y] == 1]\n",
    "\n",
    "    graph_inv = MapGraph(coordinates(map_df), connections(map_df, inverted=True))\n",
    "    return graph_inv.shortest_distance_multiple(start_end(map_df)[1], check)"
   ]
  },
  {
   "cell_type": "code",
   "execution_count": null,
   "metadata": {},
   "outputs": [],
   "source": [
    "print(\"Part B example solution:\", solution_b(example_input))\n",
    "print(\"Part B example answer:\", example_soln_b)"
   ]
  },
  {
   "cell_type": "code",
   "execution_count": null,
   "metadata": {},
   "outputs": [],
   "source": [
    "solution_b_output = solution_b(_input)\n",
    "print(\"Part B solution:\", solution_b_output, \"\\n\" + \"-\" * 60)\n",
    "submit(solution_b_output, day=12, year=2022, part=\"b\")"
   ]
  }
 ],
 "metadata": {
  "kernelspec": {
   "display_name": "venv",
   "language": "python",
   "name": "python3"
  },
  "language_info": {
   "codemirror_mode": {
    "name": "ipython",
    "version": 3
   },
   "file_extension": ".py",
   "mimetype": "text/x-python",
   "name": "python",
   "nbconvert_exporter": "python",
   "pygments_lexer": "ipython3",
   "version": "3.9.18"
  }
 },
 "nbformat": 4,
 "nbformat_minor": 2
}
