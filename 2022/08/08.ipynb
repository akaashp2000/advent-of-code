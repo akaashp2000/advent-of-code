{
 "cells": [
  {
   "cell_type": "markdown",
   "metadata": {},
   "source": [
    "# Setup"
   ]
  },
  {
   "cell_type": "code",
   "execution_count": null,
   "metadata": {},
   "outputs": [],
   "source": [
    "from dotenv import load_dotenv\n",
    "\n",
    "_ = load_dotenv()"
   ]
  },
  {
   "cell_type": "code",
   "execution_count": null,
   "metadata": {},
   "outputs": [],
   "source": [
    "from aocd import submit\n",
    "from aocd.models import Puzzle"
   ]
  },
  {
   "cell_type": "code",
   "execution_count": null,
   "metadata": {},
   "outputs": [],
   "source": [
    "puzzle = Puzzle(year=2022, day=8)"
   ]
  },
  {
   "cell_type": "code",
   "execution_count": null,
   "metadata": {},
   "outputs": [],
   "source": [
    "example_input, example_soln_a, example_soln_b = (\n",
    "    puzzle.examples[0].input_data,\n",
    "    *puzzle.examples[0].answers,\n",
    ")\n",
    "input = puzzle.input_data"
   ]
  },
  {
   "cell_type": "markdown",
   "metadata": {},
   "source": [
    "# Part A"
   ]
  },
  {
   "cell_type": "code",
   "execution_count": null,
   "metadata": {},
   "outputs": [],
   "source": [
    "def solution_a(input: str):\n",
    "    import pandas as pd\n",
    "\n",
    "    data = [list(map(int, list(x))) for x in input.split(\"\\n\")]\n",
    "    data_df = pd.DataFrame(data)\n",
    "\n",
    "    visible = 0\n",
    "    for x in range(data_df.shape[0]):\n",
    "        for y in range(data_df.shape[1]):\n",
    "            if (\n",
    "                x == 0\n",
    "                or x == data_df.shape[0] - 1\n",
    "                or y == 0\n",
    "                or y == data_df.shape[1] - 1\n",
    "            ):\n",
    "                visible += 1\n",
    "            else:\n",
    "                if (\n",
    "                    data_df.loc[x, y] > max(data_df.loc[x, : y - 1].values)\n",
    "                    or data_df.loc[x, y] > max(data_df.loc[x, y + 1 :].values)\n",
    "                    or data_df.loc[x, y] > max(data_df.loc[: x - 1, y].values)\n",
    "                    or data_df.loc[x, y] > max(data_df.loc[x + 1 :, y].values)\n",
    "                ):\n",
    "                    visible += 1\n",
    "\n",
    "    return visible"
   ]
  },
  {
   "cell_type": "code",
   "execution_count": null,
   "metadata": {},
   "outputs": [],
   "source": [
    "print(\"Part A example solution:\", solution_a(input=example_input))\n",
    "print(\"Part A example answer:\", example_soln_a)"
   ]
  },
  {
   "cell_type": "code",
   "execution_count": null,
   "metadata": {},
   "outputs": [],
   "source": [
    "solution_a_output = solution_a(input=input)\n",
    "print(\"Part A solution:\", solution_a_output, \"\\n\" + \"-\" * 60)\n",
    "submit(solution_a_output, day=8, year=2022, part=\"a\")"
   ]
  },
  {
   "cell_type": "markdown",
   "metadata": {},
   "source": [
    "# Part B"
   ]
  },
  {
   "cell_type": "code",
   "execution_count": null,
   "metadata": {},
   "outputs": [],
   "source": [
    "def solution_b(input: str):\n",
    "    import pandas as pd\n",
    "\n",
    "    data = [list(map(int, list(x))) for x in input.split(\"\\n\")]\n",
    "    data_df = pd.DataFrame(data)\n",
    "\n",
    "    scenic_score = 0\n",
    "    for x in range(data_df.shape[0]):\n",
    "        for y in range(data_df.shape[1]):\n",
    "            l, r, u, d = 0, 0, 0, 0\n",
    "            if x == 0:\n",
    "                l = 0\n",
    "            if x == data_df.shape[0]:\n",
    "                r = 0\n",
    "            if y == 0:\n",
    "                u = 0\n",
    "            if y == data_df.shape[1]:\n",
    "                d = 0\n",
    "\n",
    "            if l == 0:\n",
    "                stop = 0\n",
    "                for z in range(x)[::-1]:\n",
    "                    stop += 1\n",
    "                    if data_df.loc[z, y] >= data_df.loc[x, y]:\n",
    "                        break\n",
    "                l = stop\n",
    "\n",
    "            if r == 0:\n",
    "                stop = 0\n",
    "                for z in range(x + 1, data_df.shape[0]):\n",
    "                    stop += 1\n",
    "                    if data_df.loc[z, y] >= data_df.loc[x, y]:\n",
    "                        break\n",
    "                r = stop\n",
    "\n",
    "            if u == 0:\n",
    "                stop = 0\n",
    "                for z in range(y)[::-1]:\n",
    "                    stop += 1\n",
    "                    if data_df.loc[x, z] >= data_df.loc[x, y]:\n",
    "                        break\n",
    "                u = stop\n",
    "\n",
    "            if d == 0:\n",
    "                stop = 0\n",
    "                for z in range(y + 1, data_df.shape[1]):\n",
    "                    stop += 1\n",
    "                    if data_df.loc[x, z] >= data_df.loc[x, y]:\n",
    "                        break\n",
    "                d = stop\n",
    "\n",
    "            scenic_score = max([l * u * d * r, scenic_score])\n",
    "\n",
    "    return scenic_score"
   ]
  },
  {
   "cell_type": "code",
   "execution_count": null,
   "metadata": {},
   "outputs": [],
   "source": [
    "print(\"Part B example solution:\", solution_b(input=example_input))\n",
    "print(\"Part B example answer:\", example_soln_b)"
   ]
  },
  {
   "cell_type": "code",
   "execution_count": null,
   "metadata": {},
   "outputs": [],
   "source": [
    "solution_b_output = solution_b(input=input)\n",
    "print(\"Part B solution:\", solution_b_output, \"\\n\" + \"-\" * 60)\n",
    "submit(solution_b_output, day=8, year=2022, part=\"b\")"
   ]
  }
 ],
 "metadata": {
  "kernelspec": {
   "display_name": "venv",
   "language": "python",
   "name": "python3"
  },
  "language_info": {
   "codemirror_mode": {
    "name": "ipython",
    "version": 3
   },
   "file_extension": ".py",
   "mimetype": "text/x-python",
   "name": "python",
   "nbconvert_exporter": "python",
   "pygments_lexer": "ipython3",
   "version": "3.9.18"
  }
 },
 "nbformat": 4,
 "nbformat_minor": 2
}
