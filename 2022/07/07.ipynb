{
 "cells": [
  {
   "cell_type": "markdown",
   "metadata": {},
   "source": [
    "# Setup"
   ]
  },
  {
   "cell_type": "code",
   "execution_count": null,
   "metadata": {},
   "outputs": [],
   "source": [
    "from dotenv import load_dotenv\n",
    "\n",
    "_ = load_dotenv()"
   ]
  },
  {
   "cell_type": "code",
   "execution_count": null,
   "metadata": {},
   "outputs": [],
   "source": [
    "from aocd import submit\n",
    "from aocd.models import Puzzle"
   ]
  },
  {
   "cell_type": "code",
   "execution_count": null,
   "metadata": {},
   "outputs": [],
   "source": [
    "puzzle = Puzzle(year=2022, day=7)"
   ]
  },
  {
   "cell_type": "code",
   "execution_count": null,
   "metadata": {},
   "outputs": [],
   "source": [
    "example_input, example_soln_a, example_soln_b = (\n",
    "    puzzle.examples[0].input_data,\n",
    "    *puzzle.examples[0].answers,\n",
    ")\n",
    "input = puzzle.input_data"
   ]
  },
  {
   "cell_type": "markdown",
   "metadata": {},
   "source": [
    "# Part A"
   ]
  },
  {
   "cell_type": "code",
   "execution_count": null,
   "metadata": {},
   "outputs": [],
   "source": [
    "def solution_a(input: str):\n",
    "    input += \"\\n\"\n",
    "    cmdline = [x[1:].split(\"\\n\")[:-1] for x in input.split(\"$\")[1:]]\n",
    "\n",
    "    files = {}\n",
    "    paths_str = []\n",
    "    paths_arr = []\n",
    "    current_dir_str = \"/\"\n",
    "    current_dir_arr = []\n",
    "    for cmd in cmdline[1:]:\n",
    "        if cmd[0][:2] == \"cd\":\n",
    "            if cmd[0][:5] == \"cd ..\":\n",
    "                current_dir_arr = current_dir_arr[:-1]\n",
    "            else:\n",
    "                current_dir_arr.append(cmd[0][3:])\n",
    "            current_dir_str = \"/\" + \"/\".join(current_dir_arr)\n",
    "            paths_str.append(current_dir_str)\n",
    "            paths_arr.append(current_dir_arr)\n",
    "        else:\n",
    "            for entry in cmd[1:]:\n",
    "                if entry[:3] != \"dir\":\n",
    "                    size, file = entry.split(\" \")\n",
    "                    files[current_dir_str + file] = {\n",
    "                        \"size\": int(size),\n",
    "                        \"location\": current_dir_str,\n",
    "                    }\n",
    "\n",
    "    for file in files.keys():\n",
    "        files[file][\"locations\"] = set(\n",
    "            [location for location in paths_str if location in files[file][\"location\"]]\n",
    "        )\n",
    "\n",
    "    dir_size = {\n",
    "        location: sum(\n",
    "            [\n",
    "                files[file][\"size\"]\n",
    "                for file in files.keys()\n",
    "                if location in files[file][\"locations\"]\n",
    "            ]\n",
    "        )\n",
    "        for location in set(paths_str)\n",
    "    }\n",
    "\n",
    "    return sum(\n",
    "        [\n",
    "            dir_size[location]\n",
    "            for location in dir_size.keys()\n",
    "            if dir_size[location] <= 100000\n",
    "        ]\n",
    "    )"
   ]
  },
  {
   "cell_type": "code",
   "execution_count": null,
   "metadata": {},
   "outputs": [],
   "source": [
    "print(\"Part A example solution:\", solution_a(input=example_input))\n",
    "print(\"Part A example answer:\", example_soln_a)"
   ]
  },
  {
   "cell_type": "code",
   "execution_count": null,
   "metadata": {},
   "outputs": [],
   "source": [
    "solution_a_output = solution_a(input=input)\n",
    "print(\"Part A solution:\", solution_a_output, \"\\n\" + \"-\" * 60)\n",
    "submit(solution_a_output, day=7, year=2022, part=\"a\")"
   ]
  },
  {
   "cell_type": "markdown",
   "metadata": {},
   "source": [
    "# Part B"
   ]
  },
  {
   "cell_type": "code",
   "execution_count": null,
   "metadata": {},
   "outputs": [],
   "source": [
    "def solution_b(input: str):\n",
    "    input += \"\\n\"\n",
    "    cmdline = [x[1:].split(\"\\n\")[:-1] for x in input.split(\"$\")[1:]]\n",
    "\n",
    "    files = {}\n",
    "    paths_str = []\n",
    "    paths_arr = []\n",
    "    current_dir_str = \"/\"\n",
    "    current_dir_arr = []\n",
    "    for cmd in cmdline[1:]:\n",
    "        if cmd[0][:2] == \"cd\":\n",
    "            if cmd[0][:5] == \"cd ..\":\n",
    "                current_dir_arr = current_dir_arr[:-1]\n",
    "            else:\n",
    "                current_dir_arr.append(cmd[0][3:])\n",
    "            current_dir_str = \"/\" + \"/\".join(current_dir_arr)\n",
    "            paths_str.append(current_dir_str)\n",
    "            paths_arr.append(current_dir_arr)\n",
    "        else:\n",
    "            for entry in cmd[1:]:\n",
    "                if entry[:3] != \"dir\":\n",
    "                    size, file = entry.split(\" \")\n",
    "                    files[current_dir_str + file] = {\n",
    "                        \"size\": int(size),\n",
    "                        \"location\": current_dir_str,\n",
    "                    }\n",
    "\n",
    "    for file in files.keys():\n",
    "        files[file][\"locations\"] = set(\n",
    "            [location for location in paths_str if location in files[file][\"location\"]]\n",
    "        )\n",
    "\n",
    "    dir_size = {\n",
    "        location: sum(\n",
    "            [\n",
    "                files[file][\"size\"]\n",
    "                for file in files.keys()\n",
    "                if location in files[file][\"locations\"]\n",
    "            ]\n",
    "        )\n",
    "        for location in set(paths_str)\n",
    "    }\n",
    "\n",
    "    return min(\n",
    "        [\n",
    "            dir_size[location]\n",
    "            for location in dir_size.keys()\n",
    "            if dir_size[location] >= dir_size[\"/\"] - 40000000\n",
    "        ]\n",
    "    )"
   ]
  },
  {
   "cell_type": "code",
   "execution_count": null,
   "metadata": {},
   "outputs": [],
   "source": [
    "print(\"Part B example solution:\", solution_b(input=example_input))\n",
    "print(\"Part B example answer:\", example_soln_b)"
   ]
  },
  {
   "cell_type": "code",
   "execution_count": null,
   "metadata": {},
   "outputs": [],
   "source": [
    "solution_b_output = solution_b(input=input)\n",
    "print(\"Part B solution:\", solution_b_output, \"\\n\" + \"-\" * 60)\n",
    "submit(solution_b_output, day=7, year=2022, part=\"b\")"
   ]
  }
 ],
 "metadata": {
  "kernelspec": {
   "display_name": "venv",
   "language": "python",
   "name": "python3"
  },
  "language_info": {
   "codemirror_mode": {
    "name": "ipython",
    "version": 3
   },
   "file_extension": ".py",
   "mimetype": "text/x-python",
   "name": "python",
   "nbconvert_exporter": "python",
   "pygments_lexer": "ipython3",
   "version": "3.9.18"
  }
 },
 "nbformat": 4,
 "nbformat_minor": 2
}
