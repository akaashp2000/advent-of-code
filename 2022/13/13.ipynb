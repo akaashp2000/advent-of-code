{
 "cells": [
  {
   "cell_type": "markdown",
   "metadata": {},
   "source": [
    "# Setup"
   ]
  },
  {
   "cell_type": "code",
   "execution_count": null,
   "metadata": {},
   "outputs": [],
   "source": [
    "from dotenv import load_dotenv\n",
    "\n",
    "_ = load_dotenv()"
   ]
  },
  {
   "cell_type": "code",
   "execution_count": null,
   "metadata": {},
   "outputs": [],
   "source": [
    "from aocd import submit\n",
    "from aocd.models import Puzzle\n",
    "\n",
    "from ast import literal_eval\n",
    "from copy import deepcopy"
   ]
  },
  {
   "cell_type": "code",
   "execution_count": null,
   "metadata": {},
   "outputs": [],
   "source": [
    "puzzle = Puzzle(year=2022, day=13)"
   ]
  },
  {
   "cell_type": "code",
   "execution_count": null,
   "metadata": {},
   "outputs": [],
   "source": [
    "example_input, example_soln_a, example_soln_b = (\n",
    "    puzzle.examples[0].input_data,\n",
    "    *puzzle.examples[0].answers,\n",
    ")\n",
    "input = puzzle.input_data"
   ]
  },
  {
   "cell_type": "markdown",
   "metadata": {},
   "source": [
    "# Part A"
   ]
  },
  {
   "cell_type": "code",
   "execution_count": null,
   "metadata": {},
   "outputs": [],
   "source": [
    "def solution_a(input: str):\n",
    "    data = [list(map(literal_eval, x.split(\"\\n\")[:2])) for x in input.split(\"\\n\\n\")]\n",
    "\n",
    "    def list_comparison(list1, list2):\n",
    "        if len(list1) * len(list2) > 0:\n",
    "            if isinstance(list1[0], int) and isinstance(list2[0], int):\n",
    "                if list1[0] < list2[0]:\n",
    "                    subcomparison = 1\n",
    "                elif list1[0] > list2[0]:\n",
    "                    subcomparison = -1\n",
    "                else:\n",
    "                    subcomparison = 0\n",
    "            elif isinstance(list1[0], int) and not isinstance(list2[0], int):\n",
    "                subcomparison = list_comparison([list1[0]], list2[0])\n",
    "            elif not isinstance(list1[0], int) and isinstance(list2[0], int):\n",
    "                subcomparison = list_comparison(list1[0], [list2[0]])\n",
    "            else:\n",
    "                subcomparison = list_comparison(list1[0], list2[0])\n",
    "\n",
    "            if subcomparison != 0:\n",
    "                return subcomparison\n",
    "            else:\n",
    "                return list_comparison(list1[1:], list2[1:])\n",
    "\n",
    "        elif len(list1) > 0:\n",
    "            return -1\n",
    "        elif len(list2) > 0:\n",
    "            return 1\n",
    "        else:\n",
    "            return 0\n",
    "\n",
    "    correct_pair = []\n",
    "\n",
    "    for index, pair in list(enumerate(data)):\n",
    "        if list_comparison(pair[0], pair[1]) == 1:\n",
    "            correct_pair.append(index + 1)\n",
    "\n",
    "    return sum(correct_pair)"
   ]
  },
  {
   "cell_type": "code",
   "execution_count": null,
   "metadata": {},
   "outputs": [],
   "source": [
    "print(\"Part A example solution:\", solution_a(input=example_input))\n",
    "print(\"Part A example answer:\", example_soln_a)"
   ]
  },
  {
   "cell_type": "code",
   "execution_count": null,
   "metadata": {},
   "outputs": [],
   "source": [
    "solution_a_output = solution_a(input=input)\n",
    "print(\"Part A solution:\", solution_a_output, \"\\n\" + \"-\" * 60)\n",
    "submit(solution_a_output, day=13, year=2022, part=\"a\")"
   ]
  },
  {
   "cell_type": "markdown",
   "metadata": {},
   "source": [
    "# Part B"
   ]
  },
  {
   "cell_type": "code",
   "execution_count": null,
   "metadata": {},
   "outputs": [],
   "source": [
    "def solution_b(input: str):\n",
    "    data = [list(map(literal_eval, x.split(\"\\n\")[:2])) for x in input.split(\"\\n\\n\")]\n",
    "\n",
    "    def list_comparison(list1, list2):\n",
    "        if len(list1) * len(list2) > 0:\n",
    "            if isinstance(list1[0], int) and isinstance(list2[0], int):\n",
    "                if list1[0] < list2[0]:\n",
    "                    subcomparison = 1\n",
    "                elif list1[0] > list2[0]:\n",
    "                    subcomparison = -1\n",
    "                else:\n",
    "                    subcomparison = 0\n",
    "            elif isinstance(list1[0], int) and not isinstance(list2[0], int):\n",
    "                subcomparison = list_comparison([list1[0]], list2[0])\n",
    "            elif not isinstance(list1[0], int) and isinstance(list2[0], int):\n",
    "                subcomparison = list_comparison(list1[0], [list2[0]])\n",
    "            else:\n",
    "                subcomparison = list_comparison(list1[0], list2[0])\n",
    "\n",
    "            if subcomparison != 0:\n",
    "                return subcomparison\n",
    "            else:\n",
    "                return list_comparison(list1[1:], list2[1:])\n",
    "\n",
    "        elif len(list1) > 0:\n",
    "            return -1\n",
    "        elif len(list2) > 0:\n",
    "            return 1\n",
    "        else:\n",
    "            return 0\n",
    "\n",
    "    _data = []\n",
    "    for x in data:\n",
    "        _data.append(x[0])\n",
    "        _data.append(x[1])\n",
    "    data = _data\n",
    "\n",
    "    first_index = 1\n",
    "    second_index = 2\n",
    "\n",
    "    for x in data:\n",
    "        if list_comparison([[2]], x) == -1:\n",
    "            first_index += 1\n",
    "        if list_comparison([[6]], x) == -1:\n",
    "            second_index += 1\n",
    "\n",
    "    return first_index * second_index"
   ]
  },
  {
   "cell_type": "code",
   "execution_count": null,
   "metadata": {},
   "outputs": [],
   "source": [
    "print(\"Part B example solution:\", solution_b(example_input))\n",
    "print(\"Part B example answer:\", example_soln_b)"
   ]
  },
  {
   "cell_type": "code",
   "execution_count": null,
   "metadata": {},
   "outputs": [],
   "source": [
    "solution_b_output = solution_b(input)\n",
    "print(\"Part B solution:\", solution_b_output, \"\\n\" + \"-\" * 60)\n",
    "submit(solution_b_output, day=13, year=2022, part=\"b\")"
   ]
  }
 ],
 "metadata": {
  "kernelspec": {
   "display_name": "venv",
   "language": "python",
   "name": "python3"
  },
  "language_info": {
   "codemirror_mode": {
    "name": "ipython",
    "version": 3
   },
   "file_extension": ".py",
   "mimetype": "text/x-python",
   "name": "python",
   "nbconvert_exporter": "python",
   "pygments_lexer": "ipython3",
   "version": "3.9.18"
  }
 },
 "nbformat": 4,
 "nbformat_minor": 2
}
