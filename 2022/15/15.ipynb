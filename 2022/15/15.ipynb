{
 "cells": [
  {
   "cell_type": "markdown",
   "metadata": {},
   "source": [
    "# Setup"
   ]
  },
  {
   "cell_type": "code",
   "execution_count": null,
   "metadata": {},
   "outputs": [],
   "source": [
    "from dotenv import load_dotenv\n",
    "\n",
    "_ = load_dotenv()"
   ]
  },
  {
   "cell_type": "code",
   "execution_count": null,
   "metadata": {},
   "outputs": [],
   "source": [
    "from aocd import submit\n",
    "from aocd.models import Puzzle"
   ]
  },
  {
   "cell_type": "code",
   "execution_count": null,
   "metadata": {},
   "outputs": [],
   "source": [
    "puzzle = Puzzle(year=2022, day=15)"
   ]
  },
  {
   "cell_type": "code",
   "execution_count": null,
   "metadata": {},
   "outputs": [],
   "source": [
    "example_input, example_soln_a, example_soln_b = (\n",
    "    puzzle.examples[0].input_data,\n",
    "    *puzzle.examples[0].answers,\n",
    ")\n",
    "input = puzzle.input_data"
   ]
  },
  {
   "cell_type": "markdown",
   "metadata": {},
   "source": [
    "# Part A"
   ]
  },
  {
   "cell_type": "code",
   "execution_count": null,
   "metadata": {},
   "outputs": [],
   "source": [
    "def solution_a(input: str, test: bool = False):\n",
    "    data = [x.split(\"Sensor at x=\")[1] for x in input.split(\"\\n\")]\n",
    "    data = [x.split(\": closest beacon is at x=\") for x in data]\n",
    "    data = [[tuple(map(int, y.split(\", y=\"))) for y in x] for x in data]\n",
    "    data = {\n",
    "        dat[0]: {\n",
    "            \"beacon\": dat[1],\n",
    "            \"distance\": abs(dat[0][0] - dat[1][0]) + abs(dat[0][1] - dat[1][1]),\n",
    "        }\n",
    "        for dat in data\n",
    "    }\n",
    "\n",
    "    out = set()\n",
    "    y = 10 if test else 2000000\n",
    "    for sensor in data.keys():\n",
    "        d = data[sensor][\"distance\"]\n",
    "        out = out.union(\n",
    "            set(\n",
    "                range(\n",
    "                    sensor[0] - (d - abs(sensor[1] - y)),\n",
    "                    sensor[0] + (d - abs(sensor[1] - y) + 1),\n",
    "                )\n",
    "            )\n",
    "        )\n",
    "        if data[sensor][\"beacon\"][1] == y:\n",
    "            out = out - set([data[sensor][\"beacon\"][0]])\n",
    "\n",
    "    return len(out)"
   ]
  },
  {
   "cell_type": "code",
   "execution_count": null,
   "metadata": {},
   "outputs": [],
   "source": [
    "print(\"Part A example solution:\", solution_a(input=example_input, test=True))\n",
    "print(\"Part A example answer:\", example_soln_a)"
   ]
  },
  {
   "cell_type": "code",
   "execution_count": null,
   "metadata": {},
   "outputs": [],
   "source": [
    "solution_a_output = solution_a(input=input)\n",
    "print(\"Part A solution:\", solution_a_output, \"\\n\" + \"-\" * 60)\n",
    "submit(solution_a_output, day=15, year=2022, part=\"a\")"
   ]
  },
  {
   "cell_type": "markdown",
   "metadata": {},
   "source": [
    "# Part B - NOT WORKING"
   ]
  },
  {
   "cell_type": "code",
   "execution_count": null,
   "metadata": {},
   "outputs": [],
   "source": [
    "def solution_b(input: str, test: bool = False):\n",
    "    data = [x.split(\"Sensor at x=\")[1] for x in input.split(\"\\n\")]\n",
    "    data = [x.split(\": closest beacon is at x=\") for x in data]\n",
    "    data = [[tuple(map(int, y.split(\", y=\"))) for y in x] for x in data]\n",
    "    data = {\n",
    "        dat[0]: {\n",
    "            \"beacon\": dat[1],\n",
    "            \"distance\": abs(dat[0][0] - dat[1][0]) + abs(dat[0][1] - dat[1][1]),\n",
    "        }\n",
    "        for dat in data\n",
    "    }\n",
    "\n",
    "    search_area = 20 if test else 4000000\n",
    "    impossible = {x: [] for x in range(search_area + 1)}\n",
    "    total_distress_signal = int(\n",
    "        (4000001) * (0.5 * (search_area + 1) ** 2 * search_area)\n",
    "    )\n",
    "    for sensor in data.keys():\n",
    "        d = data[sensor][\"distance\"]\n",
    "        for x in range(\n",
    "            max([sensor[0] - d, 0]), min([sensor[0] + d + 1, search_area + 1])\n",
    "        ):\n",
    "            y_endpoints = [\n",
    "                sensor[1] - (d - abs(sensor[0] - x)),\n",
    "                sensor[1] + (d - abs(sensor[0] - x)),\n",
    "            ]\n",
    "            for y in range(\n",
    "                max([min(y_endpoints), 0]), min([max(y_endpoints) + 1, search_area + 1])\n",
    "            ):\n",
    "                if y not in impossible[x]:\n",
    "                    impossible[x].append(y)\n",
    "                    total_distress_signal -= 4000000 * x + y\n",
    "\n",
    "    return total_distress_signal"
   ]
  },
  {
   "cell_type": "code",
   "execution_count": null,
   "metadata": {},
   "outputs": [],
   "source": [
    "print(\"Part B example solution:\", solution_b(example_input))\n",
    "print(\"Part B example answer:\", example_soln_b)"
   ]
  },
  {
   "cell_type": "code",
   "execution_count": null,
   "metadata": {},
   "outputs": [],
   "source": [
    "solution_b_output = solution_b(input)\n",
    "print(\"Part B solution:\", solution_b_output, \"\\n\" + \"-\" * 60)\n",
    "submit(solution_b_output, day=15, year=2022, part=\"b\")"
   ]
  }
 ],
 "metadata": {
  "kernelspec": {
   "display_name": "venv",
   "language": "python",
   "name": "python3"
  },
  "language_info": {
   "codemirror_mode": {
    "name": "ipython",
    "version": 3
   },
   "file_extension": ".py",
   "mimetype": "text/x-python",
   "name": "python",
   "nbconvert_exporter": "python",
   "pygments_lexer": "ipython3",
   "version": "3.9.18"
  }
 },
 "nbformat": 4,
 "nbformat_minor": 2
}
