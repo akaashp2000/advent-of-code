{
 "cells": [
  {
   "cell_type": "markdown",
   "metadata": {},
   "source": [
    "# Setup"
   ]
  },
  {
   "cell_type": "code",
   "execution_count": null,
   "metadata": {},
   "outputs": [],
   "source": [
    "from dotenv import load_dotenv\n",
    "\n",
    "_ = load_dotenv()"
   ]
  },
  {
   "cell_type": "code",
   "execution_count": null,
   "metadata": {},
   "outputs": [],
   "source": [
    "from aocd import submit\n",
    "from aocd.models import Puzzle"
   ]
  },
  {
   "cell_type": "code",
   "execution_count": null,
   "metadata": {},
   "outputs": [],
   "source": [
    "puzzle = Puzzle(year=2022, day=10)"
   ]
  },
  {
   "cell_type": "code",
   "execution_count": null,
   "metadata": {},
   "outputs": [],
   "source": [
    "example_input, example_soln_a, example_soln_b = (\n",
    "    puzzle.examples[0].input_data,\n",
    "    *puzzle.examples[0].answers,\n",
    ")\n",
    "_input = puzzle.input_data"
   ]
  },
  {
   "cell_type": "markdown",
   "metadata": {},
   "source": [
    "# Part A"
   ]
  },
  {
   "cell_type": "code",
   "execution_count": null,
   "metadata": {},
   "outputs": [],
   "source": [
    "def solution_a(input: str):\n",
    "    data = input.split(\"\\n\")\n",
    "    out = []\n",
    "    total = [1]\n",
    "\n",
    "    for x in data:\n",
    "        if x == \"noop\":\n",
    "            out = [*out, 0]\n",
    "            total = [*total, total[-1]]\n",
    "        else:\n",
    "            out = [*out, 0, int(x.split(\" \")[1])]\n",
    "            total = [*total, total[-1], total[-1] + out[-1]]\n",
    "\n",
    "    indices = [20, 60, 100, 140, 180, 220]\n",
    "\n",
    "    scores_to_sum = [total[i - 1] for i in indices]\n",
    "    sum = 0\n",
    "    for score, index in list(zip(scores_to_sum, indices)):\n",
    "        sum += score * index\n",
    "\n",
    "    return sum"
   ]
  },
  {
   "cell_type": "code",
   "execution_count": null,
   "metadata": {},
   "outputs": [],
   "source": [
    "print(\"Part A example solution:\", solution_a(input=example_input))\n",
    "print(\"Part A example answer:\", example_soln_a)"
   ]
  },
  {
   "cell_type": "code",
   "execution_count": null,
   "metadata": {},
   "outputs": [],
   "source": [
    "solution_a_output = solution_a(input=_input)\n",
    "print(\"Part A solution:\", solution_a_output, \"\\n\" + \"-\" * 60)\n",
    "submit(solution_a_output, day=10, year=2022, part=\"a\")"
   ]
  },
  {
   "cell_type": "markdown",
   "metadata": {},
   "source": [
    "# Part B"
   ]
  },
  {
   "cell_type": "code",
   "execution_count": null,
   "metadata": {},
   "outputs": [],
   "source": [
    "def solution_b(_input: str):\n",
    "    import numpy as np\n",
    "\n",
    "    data = _input.split(\"\\n\")\n",
    "    out = []\n",
    "    total = [1]\n",
    "\n",
    "    for x in data:\n",
    "        if x == \"noop\":\n",
    "            out = [*out, 0]\n",
    "            total = [*total, total[-1]]\n",
    "        else:\n",
    "            out = [*out, 0, int(x.split(\" \")[1])]\n",
    "            total = [*total, total[-1], total[-1] + out[-1]]\n",
    "\n",
    "    screen = []\n",
    "    for i, position in list(enumerate(total[1:])):\n",
    "        if i % 40 + 1 in range(position - 1, position + 2):\n",
    "            screen.append(\"#\")\n",
    "        else:\n",
    "            screen.append(\".\")\n",
    "\n",
    "    for j in np.array(screen).reshape(6, 40):\n",
    "        print(\"\".join(j))\n",
    "\n",
    "    answer = input(\"Enter the letters you see\")\n",
    "\n",
    "    return answer"
   ]
  },
  {
   "cell_type": "code",
   "execution_count": null,
   "metadata": {},
   "outputs": [],
   "source": [
    "print(\"Part B example solution:\", solution_b(example_input))\n",
    "print(\"Part B example answer:\", example_soln_b)"
   ]
  },
  {
   "cell_type": "code",
   "execution_count": null,
   "metadata": {},
   "outputs": [],
   "source": [
    "solution_b_output = solution_b(_input)\n",
    "print(\"Part B solution:\", solution_b_output, \"\\n\" + \"-\" * 60)\n",
    "submit(solution_b_output, day=10, year=2022, part=\"b\")"
   ]
  }
 ],
 "metadata": {
  "kernelspec": {
   "display_name": "venv",
   "language": "python",
   "name": "python3"
  },
  "language_info": {
   "codemirror_mode": {
    "name": "ipython",
    "version": 3
   },
   "file_extension": ".py",
   "mimetype": "text/x-python",
   "name": "python",
   "nbconvert_exporter": "python",
   "pygments_lexer": "ipython3",
   "version": "3.9.18"
  }
 },
 "nbformat": 4,
 "nbformat_minor": 2
}
