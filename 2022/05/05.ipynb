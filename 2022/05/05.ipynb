{
 "cells": [
  {
   "cell_type": "markdown",
   "metadata": {},
   "source": [
    "# Setup"
   ]
  },
  {
   "cell_type": "code",
   "execution_count": null,
   "metadata": {},
   "outputs": [],
   "source": [
    "from dotenv import load_dotenv\n",
    "\n",
    "_ = load_dotenv()"
   ]
  },
  {
   "cell_type": "code",
   "execution_count": null,
   "metadata": {},
   "outputs": [],
   "source": [
    "from aocd import submit\n",
    "from aocd.models import Puzzle"
   ]
  },
  {
   "cell_type": "code",
   "execution_count": null,
   "metadata": {},
   "outputs": [],
   "source": [
    "puzzle = Puzzle(year=2022, day=5)"
   ]
  },
  {
   "cell_type": "code",
   "execution_count": null,
   "metadata": {},
   "outputs": [],
   "source": [
    "example_input, example_soln_a, example_soln_b = (\n",
    "    puzzle.examples[0].input_data,\n",
    "    *puzzle.examples[0].answers,\n",
    ")\n",
    "input = puzzle.input_data"
   ]
  },
  {
   "cell_type": "markdown",
   "metadata": {},
   "source": [
    "# Part A"
   ]
  },
  {
   "cell_type": "code",
   "execution_count": null,
   "metadata": {},
   "outputs": [],
   "source": [
    "def solution_a(input: str):\n",
    "    input = [line for line in input.split(\"\\n\") if len(line) > 0]\n",
    "    data = [line for line in input if line[0] != \"m\"]\n",
    "    instructions = [line for line in input if line[0] == \"m\"]\n",
    "    mapping = {\n",
    "        idx: int(char) for idx, char in list(enumerate(list(data[-1]))) if char != \" \"\n",
    "    }\n",
    "    input_1 = \"\"\n",
    "    for idx, char in mapping.items():\n",
    "        for line in data[-2::-1]:\n",
    "            if line[idx] != \" \":\n",
    "                input_1 += line[idx]\n",
    "        input_1 += \"\\n\"\n",
    "    input_1 = input_1[:-1]\n",
    "    input_2 = \"\\n\".join(instructions)\n",
    "\n",
    "    data = input_1.split(\"\\n\")\n",
    "    instr = [x.split(\"move \")[1].split(\" from \") for x in input_2.split(\"\\n\")]\n",
    "    instr = [[int(x[0]), *[int(y) for y in x[1].split(\" to \")]] for x in instr]\n",
    "\n",
    "    for inst in instr:\n",
    "        for j in range(inst[0]):\n",
    "            data[inst[2] - 1] = data[inst[2] - 1] + data[inst[1] - 1][-1]\n",
    "            data[inst[1] - 1] = data[inst[1] - 1][:-1]\n",
    "\n",
    "    return \"\".join([x[-1] for x in data])"
   ]
  },
  {
   "cell_type": "code",
   "execution_count": null,
   "metadata": {},
   "outputs": [],
   "source": [
    "print(\"Part A example solution:\", solution_a(input=example_input))\n",
    "print(\"Part A example answer:\", example_soln_a)"
   ]
  },
  {
   "cell_type": "code",
   "execution_count": null,
   "metadata": {},
   "outputs": [],
   "source": [
    "solution_a_output = solution_a(input=input)\n",
    "print(\"Part A solution:\", solution_a_output, \"\\n\" + \"-\" * 60)\n",
    "submit(solution_a_output, day=5, year=2022, part=\"a\")"
   ]
  },
  {
   "cell_type": "markdown",
   "metadata": {},
   "source": [
    "# Part B"
   ]
  },
  {
   "cell_type": "code",
   "execution_count": null,
   "metadata": {},
   "outputs": [],
   "source": [
    "def solution_b(input: str):\n",
    "    input = [line for line in input.split(\"\\n\") if len(line) > 0]\n",
    "    data = [line for line in input if line[0] != \"m\"]\n",
    "    instructions = [line for line in input if line[0] == \"m\"]\n",
    "    mapping = {\n",
    "        idx: int(char) for idx, char in list(enumerate(list(data[-1]))) if char != \" \"\n",
    "    }\n",
    "    input_1 = \"\"\n",
    "    for idx, char in mapping.items():\n",
    "        for line in data[-2::-1]:\n",
    "            if line[idx] != \" \":\n",
    "                input_1 += line[idx]\n",
    "        input_1 += \"\\n\"\n",
    "    input_1 = input_1[:-1]\n",
    "    input_2 = \"\\n\".join(instructions)\n",
    "\n",
    "    data = input_1.split(\"\\n\")\n",
    "    instr = [x.split(\"move \")[1].split(\" from \") for x in input_2.split(\"\\n\")]\n",
    "    instr = [[int(x[0]), *[int(y) for y in x[1].split(\" to \")]] for x in instr]\n",
    "\n",
    "    for inst in instr:\n",
    "        data[inst[2] - 1] = data[inst[2] - 1] + data[inst[1] - 1][-inst[0] :]\n",
    "        data[inst[1] - 1] = data[inst[1] - 1][: -inst[0]]\n",
    "\n",
    "    return \"\".join([x[-1] for x in data])"
   ]
  },
  {
   "cell_type": "code",
   "execution_count": null,
   "metadata": {},
   "outputs": [],
   "source": [
    "print(\"Part B example solution:\", solution_b(input=example_input))\n",
    "print(\"Part B example answer:\", example_soln_b)"
   ]
  },
  {
   "cell_type": "code",
   "execution_count": null,
   "metadata": {},
   "outputs": [],
   "source": [
    "solution_b_output = solution_b(input=input)\n",
    "print(\"Part B solution:\", solution_b_output, \"\\n\" + \"-\" * 60)\n",
    "submit(solution_b_output, day=5, year=2022, part=\"b\")"
   ]
  }
 ],
 "metadata": {
  "kernelspec": {
   "display_name": "venv",
   "language": "python",
   "name": "python3"
  },
  "language_info": {
   "codemirror_mode": {
    "name": "ipython",
    "version": 3
   },
   "file_extension": ".py",
   "mimetype": "text/x-python",
   "name": "python",
   "nbconvert_exporter": "python",
   "pygments_lexer": "ipython3",
   "version": "3.9.18"
  }
 },
 "nbformat": 4,
 "nbformat_minor": 2
}
