{
 "cells": [
  {
   "cell_type": "markdown",
   "metadata": {},
   "source": [
    "# Setup"
   ]
  },
  {
   "cell_type": "code",
   "execution_count": null,
   "metadata": {},
   "outputs": [],
   "source": [
    "from dotenv import load_dotenv\n",
    "\n",
    "_ = load_dotenv()"
   ]
  },
  {
   "cell_type": "code",
   "execution_count": null,
   "metadata": {},
   "outputs": [],
   "source": [
    "from aocd import submit\n",
    "from aocd.models import Puzzle"
   ]
  },
  {
   "cell_type": "code",
   "execution_count": null,
   "metadata": {},
   "outputs": [],
   "source": [
    "puzzle = Puzzle(year=2022, day=9)"
   ]
  },
  {
   "cell_type": "code",
   "execution_count": null,
   "metadata": {},
   "outputs": [],
   "source": [
    "example_input, example_soln_a, example_soln_b = (\n",
    "    puzzle.examples[0].input_data,\n",
    "    *puzzle.examples[0].answers,\n",
    ")\n",
    "input = puzzle.input_data"
   ]
  },
  {
   "cell_type": "markdown",
   "metadata": {},
   "source": [
    "# Part A"
   ]
  },
  {
   "cell_type": "code",
   "execution_count": null,
   "metadata": {},
   "outputs": [],
   "source": [
    "def solution_a(input: str):\n",
    "    data = [x.split(\" \") for x in input.split(\"\\n\")]\n",
    "    data = [[x, int(y)] for x, y in data]\n",
    "    data\n",
    "\n",
    "    h = complex(0)\n",
    "    t = None\n",
    "\n",
    "    dir_dict = {\n",
    "        \"L\": complex(-1),\n",
    "        \"U\": complex(0, 1),\n",
    "        \"R\": complex(1),\n",
    "        \"D\": complex(0, -1),\n",
    "    }\n",
    "\n",
    "    t_visited = []\n",
    "    h_visited = []\n",
    "\n",
    "    for dir, dist in data:\n",
    "        dir = dir_dict[dir]\n",
    "        for i in range(dist):\n",
    "            h += dir\n",
    "            if t == None:\n",
    "                t = complex(0)\n",
    "            elif h - t == 2 * dir:\n",
    "                t += dir\n",
    "            elif h - t not in [\n",
    "                complex(1, 1),\n",
    "                complex(1, -1),\n",
    "                complex(-1, 1),\n",
    "                complex(-1, -1),\n",
    "                *[*dir_dict.values(), 0],\n",
    "            ]:\n",
    "                t = h - dir\n",
    "\n",
    "            t_visited.append(t)\n",
    "            h_visited.append(h)\n",
    "\n",
    "    return len(set(t_visited))"
   ]
  },
  {
   "cell_type": "code",
   "execution_count": null,
   "metadata": {},
   "outputs": [],
   "source": [
    "print(\"Part A example solution:\", solution_a(input=example_input))\n",
    "print(\"Part A example answer:\", example_soln_a)"
   ]
  },
  {
   "cell_type": "code",
   "execution_count": null,
   "metadata": {},
   "outputs": [],
   "source": [
    "solution_a_output = solution_a(input=input)\n",
    "print(\"Part A solution:\", solution_a_output, \"\\n\" + \"-\" * 60)\n",
    "submit(solution_a_output, day=9, year=2022, part=\"a\")"
   ]
  },
  {
   "cell_type": "markdown",
   "metadata": {},
   "source": [
    "# Part B"
   ]
  },
  {
   "cell_type": "code",
   "execution_count": null,
   "metadata": {},
   "outputs": [],
   "source": [
    "def solution_b(input: str):\n",
    "    def tail(h_visited):\n",
    "        t = None\n",
    "\n",
    "        t_visited = []\n",
    "\n",
    "        for i, h in list(enumerate(h_visited)):\n",
    "            if t == None:\n",
    "                t = complex(0)\n",
    "            elif h - t in [\n",
    "                complex(1, 1),\n",
    "                complex(1, -1),\n",
    "                complex(-1, 1),\n",
    "                complex(-1, -1),\n",
    "                0,\n",
    "                *dir_dict.values(),\n",
    "            ]:\n",
    "                t = t\n",
    "            elif h - t in [complex(2), complex(-2), complex(0, 2), complex(0, -2)]:\n",
    "                t += (h - t) / 2\n",
    "            else:\n",
    "                if h_visited[i - 1] - t in dir_dict.values():\n",
    "                    t += h - h_visited[i - 1]\n",
    "                else:\n",
    "                    t = h_visited[i - 1]\n",
    "\n",
    "            t_visited.append(t)\n",
    "\n",
    "        return t_visited\n",
    "\n",
    "    data = [x.split(\" \") for x in input.split(\"\\n\")]\n",
    "    data = [[x, int(y)] for x, y in data]\n",
    "    data\n",
    "\n",
    "    h = complex(0)\n",
    "    t = None\n",
    "\n",
    "    dir_dict = {\n",
    "        \"L\": complex(-1),\n",
    "        \"U\": complex(0, 1),\n",
    "        \"R\": complex(1),\n",
    "        \"D\": complex(0, -1),\n",
    "    }\n",
    "\n",
    "    t_visited = []\n",
    "    h_visited = []\n",
    "\n",
    "    for dir, dist in data:\n",
    "        dir = dir_dict[dir]\n",
    "        for i in range(dist):\n",
    "            h += dir\n",
    "            if t == None:\n",
    "                t = complex(0)\n",
    "            elif h - t == 2 * dir:\n",
    "                t += dir\n",
    "            elif h - t not in [\n",
    "                complex(1, 1),\n",
    "                complex(1, -1),\n",
    "                complex(-1, 1),\n",
    "                complex(-1, -1),\n",
    "                *[*dir_dict.values(), 0],\n",
    "            ]:\n",
    "                t = h - dir\n",
    "\n",
    "            t_visited.append(t)\n",
    "            h_visited.append(h)\n",
    "\n",
    "    t_visited = h_visited\n",
    "    for i in range(9):\n",
    "        t_visited = tail(t_visited)\n",
    "\n",
    "    return len(set(t_visited))"
   ]
  },
  {
   "cell_type": "code",
   "execution_count": null,
   "metadata": {},
   "outputs": [],
   "source": [
    "print(\"Part B example solution:\", solution_b(input=example_input))\n",
    "print(\"Part B example answer:\", example_soln_b)"
   ]
  },
  {
   "cell_type": "code",
   "execution_count": null,
   "metadata": {},
   "outputs": [],
   "source": [
    "solution_b_output = solution_b(input=input)\n",
    "print(\"Part B solution:\", solution_b_output, \"\\n\" + \"-\" * 60)\n",
    "submit(solution_b_output, day=9, year=2022, part=\"b\")"
   ]
  }
 ],
 "metadata": {
  "kernelspec": {
   "display_name": "venv",
   "language": "python",
   "name": "python3"
  },
  "language_info": {
   "codemirror_mode": {
    "name": "ipython",
    "version": 3
   },
   "file_extension": ".py",
   "mimetype": "text/x-python",
   "name": "python",
   "nbconvert_exporter": "python",
   "pygments_lexer": "ipython3",
   "version": "3.9.18"
  }
 },
 "nbformat": 4,
 "nbformat_minor": 2
}
