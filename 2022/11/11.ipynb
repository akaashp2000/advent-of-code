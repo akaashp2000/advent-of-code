{
 "cells": [
  {
   "cell_type": "markdown",
   "metadata": {},
   "source": [
    "# Setup"
   ]
  },
  {
   "cell_type": "code",
   "execution_count": null,
   "metadata": {},
   "outputs": [],
   "source": [
    "from dotenv import load_dotenv\n",
    "\n",
    "_ = load_dotenv()"
   ]
  },
  {
   "cell_type": "code",
   "execution_count": null,
   "metadata": {},
   "outputs": [],
   "source": [
    "from aocd import submit\n",
    "from aocd.models import Puzzle"
   ]
  },
  {
   "cell_type": "code",
   "execution_count": null,
   "metadata": {},
   "outputs": [],
   "source": [
    "puzzle = Puzzle(year=2022, day=11)"
   ]
  },
  {
   "cell_type": "code",
   "execution_count": null,
   "metadata": {},
   "outputs": [],
   "source": [
    "example_input, example_soln_a, example_soln_b = (\n",
    "    puzzle.examples[0].input_data,\n",
    "    *puzzle.examples[0].answers,\n",
    ")\n",
    "input = puzzle.input_data"
   ]
  },
  {
   "cell_type": "markdown",
   "metadata": {},
   "source": [
    "# Part A"
   ]
  },
  {
   "cell_type": "code",
   "execution_count": null,
   "metadata": {},
   "outputs": [],
   "source": [
    "def solution_a(input: str, divisor: int = 3, rounds: int = 20):\n",
    "    def op_gen(command):\n",
    "        if command[1] == \"+\":\n",
    "            return lambda t: sum([t if y == \"old\" else int(y) for y in command[0::2]])\n",
    "        else:\n",
    "            return lambda t: t * (t if command[-1] == \"old\" else int(command[-1]))\n",
    "\n",
    "    data = [x.split(\"\\n\") for x in input.split(\"\\n\\n\")]\n",
    "\n",
    "    instructions = {\n",
    "        i: {\n",
    "            \"start\": [\n",
    "                int(y[-1]) for y in [x.split(\": \") for x in instruction[1].split(\", \")]\n",
    "            ],\n",
    "            \"operation\": op_gen(instruction[2].split(\"new = \")[-1].split(\" \")),\n",
    "            \"test\": int(instruction[3].split(\"by \")[-1]),\n",
    "            \"pass\": int(instruction[4].split(\"monkey \")[-1]),\n",
    "            \"fail\": int(instruction[5].split(\"monkey \")[-1]),\n",
    "            \"inspected\": 0,\n",
    "        }\n",
    "        for i, instruction in list(enumerate(data))\n",
    "    }\n",
    "\n",
    "    for _ in range(rounds):\n",
    "        for j in instructions.keys():\n",
    "            for worry in instructions[j][\"start\"]:\n",
    "                worry = int(instructions[j][\"operation\"](worry) / divisor)\n",
    "                if worry % instructions[j][\"test\"] == 0:\n",
    "                    instructions[instructions[j][\"pass\"]][\"start\"].append(worry)\n",
    "                else:\n",
    "                    instructions[instructions[j][\"fail\"]][\"start\"].append(worry)\n",
    "                instructions[j][\"start\"] = instructions[j][\"start\"][1:]\n",
    "                instructions[j][\"inspected\"] += 1\n",
    "\n",
    "    top_two = sorted([instructions[j][\"inspected\"] for j in instructions.keys()])[-2:]\n",
    "    return top_two[0] * top_two[1]"
   ]
  },
  {
   "cell_type": "code",
   "execution_count": null,
   "metadata": {},
   "outputs": [],
   "source": [
    "print(\"Part A example solution:\", solution_a(input=example_input))\n",
    "print(\"Part A example answer:\", example_soln_a)"
   ]
  },
  {
   "cell_type": "code",
   "execution_count": null,
   "metadata": {},
   "outputs": [],
   "source": [
    "solution_a_output = solution_a(input=input)\n",
    "print(\"Part A solution:\", solution_a_output, \"\\n\" + \"-\" * 60)\n",
    "submit(solution_a_output, day=11, year=2022, part=\"a\")"
   ]
  },
  {
   "cell_type": "markdown",
   "metadata": {},
   "source": [
    "# Part B"
   ]
  },
  {
   "cell_type": "code",
   "execution_count": null,
   "metadata": {},
   "outputs": [],
   "source": [
    "def solution_b(input: str):\n",
    "    def op_gen(command):\n",
    "        if command[1] == \"+\":\n",
    "            return lambda t: sum([t if y == \"old\" else int(y) for y in command[0::2]])\n",
    "        else:\n",
    "            return lambda t: t * (t if command[-1] == \"old\" else int(command[-1]))\n",
    "\n",
    "    data = [x.split(\"\\n\") for x in input.split(\"\\n\\n\")]\n",
    "\n",
    "    instructions = {\n",
    "        i: {\n",
    "            \"start\": [\n",
    "                int(y[-1]) for y in [x.split(\": \") for x in instruction[1].split(\", \")]\n",
    "            ],\n",
    "            \"operation\": op_gen(instruction[2].split(\"new = \")[-1].split(\" \")),\n",
    "            \"test\": int(instruction[3].split(\"by \")[-1]),\n",
    "            \"pass\": int(instruction[4].split(\"monkey \")[-1]),\n",
    "            \"fail\": int(instruction[5].split(\"monkey \")[-1]),\n",
    "            \"inspected\": 0,\n",
    "        }\n",
    "        for i, instruction in list(enumerate(data))\n",
    "    }\n",
    "\n",
    "    for _ in range(10000):\n",
    "        for j in instructions.keys():\n",
    "            for worry in instructions[j][\"start\"]:\n",
    "                worry = instructions[j][\"operation\"](worry) % (\n",
    "                    2 * 3 * 5 * 7 * 11 * 13 * 17 * 19\n",
    "                )\n",
    "                if worry % instructions[j][\"test\"] == 0:\n",
    "                    instructions[instructions[j][\"pass\"]][\"start\"].append(worry)\n",
    "                else:\n",
    "                    instructions[instructions[j][\"fail\"]][\"start\"].append(worry)\n",
    "                instructions[j][\"start\"] = instructions[j][\"start\"][1:]\n",
    "                instructions[j][\"inspected\"] += 1\n",
    "\n",
    "    top_two = sorted([instructions[j][\"inspected\"] for j in instructions.keys()])[-2:]\n",
    "    return top_two[0] * top_two[1]"
   ]
  },
  {
   "cell_type": "code",
   "execution_count": null,
   "metadata": {},
   "outputs": [],
   "source": [
    "# This version of solution_b doesn't work for the example anymore!\n",
    "\n",
    "print(\"Part B example solution:\", solution_b(input=example_input))\n",
    "print(\"Part B example answer:\", example_soln_b)"
   ]
  },
  {
   "cell_type": "code",
   "execution_count": null,
   "metadata": {},
   "outputs": [],
   "source": [
    "solution_b_output = solution_b(input=input)\n",
    "print(\"Part B solution:\", solution_b_output, \"\\n\" + \"-\" * 60)\n",
    "submit(solution_b_output, day=11, year=2022, part=\"b\")"
   ]
  }
 ],
 "metadata": {
  "kernelspec": {
   "display_name": "venv",
   "language": "python",
   "name": "python3"
  },
  "language_info": {
   "codemirror_mode": {
    "name": "ipython",
    "version": 3
   },
   "file_extension": ".py",
   "mimetype": "text/x-python",
   "name": "python",
   "nbconvert_exporter": "python",
   "pygments_lexer": "ipython3",
   "version": "3.9.18"
  }
 },
 "nbformat": 4,
 "nbformat_minor": 2
}
