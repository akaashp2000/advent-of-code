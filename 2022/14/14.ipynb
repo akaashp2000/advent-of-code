{
 "cells": [
  {
   "cell_type": "markdown",
   "metadata": {},
   "source": [
    "# Setup"
   ]
  },
  {
   "cell_type": "code",
   "execution_count": null,
   "metadata": {},
   "outputs": [],
   "source": [
    "from dotenv import load_dotenv\n",
    "\n",
    "_ = load_dotenv()"
   ]
  },
  {
   "cell_type": "code",
   "execution_count": null,
   "metadata": {},
   "outputs": [],
   "source": [
    "from aocd import submit\n",
    "from aocd.models import Puzzle\n",
    "\n",
    "import pandas as pd\n",
    "import itertools\n",
    "from copy import deepcopy"
   ]
  },
  {
   "cell_type": "code",
   "execution_count": null,
   "metadata": {},
   "outputs": [],
   "source": [
    "puzzle = Puzzle(year=2022, day=14)"
   ]
  },
  {
   "cell_type": "code",
   "execution_count": null,
   "metadata": {},
   "outputs": [],
   "source": [
    "example_input, example_soln_a, example_soln_b = (\n",
    "    puzzle.examples[0].input_data,\n",
    "    *puzzle.examples[0].answers,\n",
    ")\n",
    "input = puzzle.input_data"
   ]
  },
  {
   "cell_type": "markdown",
   "metadata": {},
   "source": [
    "# Part A"
   ]
  },
  {
   "cell_type": "code",
   "execution_count": null,
   "metadata": {},
   "outputs": [],
   "source": [
    "def solution_a(input: str):\n",
    "    data = input.split(\"\\n\")\n",
    "    data = [[tuple(map(int, y.split(\",\"))) for y in x.split(\" -> \")] for x in data]\n",
    "\n",
    "    class Cave:\n",
    "        def __init__(self, data):\n",
    "            rows = [\n",
    "                min(list(itertools.chain(*[[y[0] for y in x] for x in data]))),\n",
    "                max(list(itertools.chain(*[[y[0] for y in x] for x in data]))),\n",
    "            ]\n",
    "            cols = [\n",
    "                min(list(itertools.chain(*[[y[1] for y in x] for x in data]))),\n",
    "                max(list(itertools.chain(*[[y[1] for y in x] for x in data]))),\n",
    "            ]\n",
    "            self.rows = range(rows[0], rows[1] + 1)\n",
    "            self.columns = range(0, cols[1] + 1)\n",
    "            self.data = data\n",
    "            self.df = self.cave_df_fill()\n",
    "            self.full = False\n",
    "\n",
    "        def cave_df_fill(self):\n",
    "            cave_df = pd.DataFrame(index=self.rows, columns=self.columns)\n",
    "            for path in self.data:\n",
    "                for line in [(path[i], path[i + 1]) for i in range(len(path) - 1)]:\n",
    "                    start, end = line\n",
    "                    if start[0] == end[0]:\n",
    "                        for i in range(\n",
    "                            min(start[1], end[1]), max(start[1], end[1]) + 1\n",
    "                        ):\n",
    "                            cave_df.loc[start[0], i] = \"#\"\n",
    "                    else:\n",
    "                        for i in range(\n",
    "                            min(start[0], end[0]), max(start[0], end[0]) + 1\n",
    "                        ):\n",
    "                            cave_df.loc[i, start[1]] = \"#\"\n",
    "            cave_df.fillna(\".\", inplace=True)\n",
    "            return cave_df.T\n",
    "\n",
    "        def sand(self):\n",
    "            unblocked = True\n",
    "            sand = [500, 0]\n",
    "            while unblocked and not self.full:\n",
    "                try:\n",
    "                    if self.df.loc[sand[1] + 1].at[sand[0]] == \".\":\n",
    "                        sand[1] += 1\n",
    "                    elif self.df.loc[sand[1] + 1].at[sand[0] - 1] == \".\":\n",
    "                        sand[0] -= 1\n",
    "                        sand[1] += 1\n",
    "                    elif self.df.loc[sand[1] + 1].at[sand[0] + 1] == \".\":\n",
    "                        sand[0] += 1\n",
    "                        sand[1] += 1\n",
    "                    else:\n",
    "                        unblocked = False\n",
    "                        self.df.loc[sand[1]].at[sand[0]] = \"o\"\n",
    "                except:\n",
    "                    self.full = True\n",
    "\n",
    "        def fill_sand(self):\n",
    "            i = 0\n",
    "            while not self.full:\n",
    "                self.sand()\n",
    "                i += 1\n",
    "            return i - 1\n",
    "\n",
    "    cave = Cave(data)\n",
    "    return cave.fill_sand()"
   ]
  },
  {
   "cell_type": "code",
   "execution_count": null,
   "metadata": {},
   "outputs": [],
   "source": [
    "print(\"Part A example solution:\", solution_a(input=example_input))\n",
    "print(\"Part A example answer:\", example_soln_a)"
   ]
  },
  {
   "cell_type": "code",
   "execution_count": null,
   "metadata": {},
   "outputs": [],
   "source": [
    "solution_a_output = solution_a(input=input)\n",
    "print(\"Part A solution:\", solution_a_output, \"\\n\" + \"-\" * 60)\n",
    "submit(solution_a_output, day=14, year=2022, part=\"a\")"
   ]
  },
  {
   "cell_type": "markdown",
   "metadata": {},
   "source": [
    "# Part B"
   ]
  },
  {
   "cell_type": "code",
   "execution_count": null,
   "metadata": {},
   "outputs": [],
   "source": [
    "def solution_b(input: str):\n",
    "    data = input.split(\"\\n\")\n",
    "    data = [[tuple(map(int, y.split(\",\"))) for y in x.split(\" -> \")] for x in data]\n",
    "\n",
    "    # part 2\n",
    "\n",
    "    class Cave2:\n",
    "        def __init__(self, data):\n",
    "            rows = [\n",
    "                min(list(itertools.chain(*[[y[0] for y in x] for x in data]))),\n",
    "                max(list(itertools.chain(*[[y[0] for y in x] for x in data]))),\n",
    "            ]\n",
    "            cols = [\n",
    "                min(list(itertools.chain(*[[y[1] for y in x] for x in data]))),\n",
    "                max(list(itertools.chain(*[[y[1] for y in x] for x in data]))),\n",
    "            ]\n",
    "            self.rows = range(rows[0], rows[1] + 1)\n",
    "            self.columns = range(0, cols[1] + 3)\n",
    "            self.data = data\n",
    "            self.df = self.cave_df_fill()\n",
    "            self.full = False\n",
    "\n",
    "        def cave_df_fill(self):\n",
    "            cave_df = pd.DataFrame(index=self.rows, columns=self.columns)\n",
    "            for path in [\n",
    "                *self.data,\n",
    "                [\n",
    "                    (min(self.rows), list(self.columns)[-1]),\n",
    "                    (max(self.rows), list(self.columns)[-1]),\n",
    "                ],\n",
    "            ]:\n",
    "                for line in [(path[i], path[i + 1]) for i in range(len(path) - 1)]:\n",
    "                    start, end = line\n",
    "                    if start[0] == end[0]:\n",
    "                        for i in range(\n",
    "                            min(start[1], end[1]), max(start[1], end[1]) + 1\n",
    "                        ):\n",
    "                            cave_df.loc[start[0], i] = \"#\"\n",
    "                    else:\n",
    "                        for i in range(\n",
    "                            min(start[0], end[0]), max(start[0], end[0]) + 1\n",
    "                        ):\n",
    "                            cave_df.loc[i, start[1]] = \"#\"\n",
    "\n",
    "            cave_df.fillna(\".\", inplace=True)\n",
    "            return cave_df.T\n",
    "\n",
    "        def sand(self):\n",
    "            unblocked = True\n",
    "            sand = [500, 0]\n",
    "            while unblocked and not self.full:\n",
    "                if sand[0] - 1 not in self.df.columns:\n",
    "                    self.df = deepcopy(\n",
    "                        pd.concat(\n",
    "                            [\n",
    "                                self.df,\n",
    "                                pd.DataFrame(\n",
    "                                    data={\n",
    "                                        sand[0]\n",
    "                                        - 1: [\".\"] * (self.df.shape[0] - 1)\n",
    "                                        + [\"#\"]\n",
    "                                    }\n",
    "                                ),\n",
    "                            ],\n",
    "                            axis=1,\n",
    "                        )\n",
    "                    )\n",
    "\n",
    "                if sand[0] + 1 not in self.df.columns:\n",
    "                    self.df = deepcopy(\n",
    "                        pd.concat(\n",
    "                            [\n",
    "                                self.df,\n",
    "                                pd.DataFrame(\n",
    "                                    data={\n",
    "                                        sand[0]\n",
    "                                        + 1: [\".\"] * (self.df.shape[0] - 1)\n",
    "                                        + [\"#\"]\n",
    "                                    }\n",
    "                                ),\n",
    "                            ],\n",
    "                            axis=1,\n",
    "                        )\n",
    "                    )\n",
    "\n",
    "                if self.df.loc[sand[1] + 1].at[sand[0]] == \".\":\n",
    "                    sand[1] += 1\n",
    "                elif self.df.loc[sand[1] + 1].at[sand[0] - 1] == \".\":\n",
    "                    sand[0] -= 1\n",
    "                    sand[1] += 1\n",
    "                elif self.df.loc[sand[1] + 1].at[sand[0] + 1] == \".\":\n",
    "                    sand[0] += 1\n",
    "                    sand[1] += 1\n",
    "                else:\n",
    "                    self.df.loc[sand[1]].at[sand[0]] = \"o\"\n",
    "                    if sand == [500, 0]:\n",
    "                        self.full = True\n",
    "                    unblocked = False\n",
    "\n",
    "        def fill_sand(self):\n",
    "            i = 0\n",
    "            while not self.full:\n",
    "                self.sand()\n",
    "                i += 1\n",
    "            return i\n",
    "\n",
    "    cave2 = Cave2(data)\n",
    "    return cave2.fill_sand()"
   ]
  },
  {
   "cell_type": "code",
   "execution_count": null,
   "metadata": {},
   "outputs": [],
   "source": [
    "print(\"Part B example solution:\", solution_b(example_input))\n",
    "print(\"Part B example answer:\", example_soln_b)"
   ]
  },
  {
   "cell_type": "code",
   "execution_count": null,
   "metadata": {},
   "outputs": [],
   "source": [
    "solution_b_output = solution_b(input)\n",
    "print(\"Part B solution:\", solution_b_output, \"\\n\" + \"-\" * 60)\n",
    "submit(solution_b_output, day=14, year=2022, part=\"b\")"
   ]
  }
 ],
 "metadata": {
  "kernelspec": {
   "display_name": "venv",
   "language": "python",
   "name": "python3"
  },
  "language_info": {
   "codemirror_mode": {
    "name": "ipython",
    "version": 3
   },
   "file_extension": ".py",
   "mimetype": "text/x-python",
   "name": "python",
   "nbconvert_exporter": "python",
   "pygments_lexer": "ipython3",
   "version": "3.9.18"
  }
 },
 "nbformat": 4,
 "nbformat_minor": 2
}
