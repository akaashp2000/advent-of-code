{
 "cells": [
  {
   "cell_type": "markdown",
   "metadata": {},
   "source": [
    "# Setup"
   ]
  },
  {
   "cell_type": "code",
   "execution_count": null,
   "metadata": {},
   "outputs": [],
   "source": [
    "from dotenv import load_dotenv\n",
    "\n",
    "_ = load_dotenv()"
   ]
  },
  {
   "cell_type": "code",
   "execution_count": null,
   "metadata": {},
   "outputs": [],
   "source": [
    "from aocd import submit\n",
    "from aocd.models import Puzzle"
   ]
  },
  {
   "cell_type": "code",
   "execution_count": null,
   "metadata": {},
   "outputs": [],
   "source": [
    "puzzle = Puzzle(year=2024, day=6)"
   ]
  },
  {
   "cell_type": "code",
   "execution_count": null,
   "metadata": {},
   "outputs": [],
   "source": [
    "example_input, example_soln_a, example_soln_b = puzzle.examples[0].input_data, *puzzle.examples[0].answers\n",
    "input = puzzle.input_data"
   ]
  },
  {
   "cell_type": "markdown",
   "metadata": {},
   "source": [
    "# Part A"
   ]
  },
  {
   "cell_type": "code",
   "execution_count": null,
   "metadata": {},
   "outputs": [],
   "source": [
    "def solution_a(input: str):\n",
    "    input = input.splitlines()\n",
    "    input = [list(line) for line in input]\n",
    "    visited = set()\n",
    "    blocked = set()\n",
    "    delta = (0, -1)\n",
    "    height = len(input)\n",
    "    width = len(input[0])\n",
    "    for y in range(len(input)):\n",
    "        for x in range(len(input[y])):\n",
    "            if input[y][x] == '#':\n",
    "                blocked.add((x, y))\n",
    "            if input[y][x] == '^':\n",
    "                position = (x, y)\n",
    "\n",
    "    while 0 <= position[0] < width and 0 <= position[1] < height:\n",
    "        visited.add(position)\n",
    "        if (position[0] + delta[0], position[1] + delta[1]) in blocked:\n",
    "            delta = {(0, -1): (1, 0), (1, 0): (0, 1), (0, 1): (-1, 0), (-1, 0): (0, -1)}.get(delta)\n",
    "        position = (position[0] + delta[0], position[1] + delta[1])\n",
    "    return len(visited)"
   ]
  },
  {
   "cell_type": "code",
   "execution_count": null,
   "metadata": {},
   "outputs": [],
   "source": [
    "print(\"Part A example solution:\", solution_a(input=example_input))\n",
    "print(\"Part A example answer:\", example_soln_a)"
   ]
  },
  {
   "cell_type": "code",
   "execution_count": null,
   "metadata": {},
   "outputs": [],
   "source": [
    "solution_a_output = solution_a(input=input)\n",
    "print(\"Part A solution:\", solution_a_output,'\\n'+\"-\"*60)\n",
    "submit(solution_a_output, day=6, year=2024, part=\"a\")"
   ]
  },
  {
   "cell_type": "markdown",
   "metadata": {},
   "source": [
    "# Part B"
   ]
  },
  {
   "cell_type": "code",
   "execution_count": null,
   "metadata": {},
   "outputs": [],
   "source": [
    "def solution_b(input: str):\n",
    "    pass"
   ]
  },
  {
   "cell_type": "code",
   "execution_count": null,
   "metadata": {},
   "outputs": [],
   "source": [
    "print(\"Part B example solution:\", solution_b(input=example_input))\n",
    "print(\"Part B example answer:\", example_soln_b)"
   ]
  },
  {
   "cell_type": "code",
   "execution_count": null,
   "metadata": {},
   "outputs": [],
   "source": [
    "solution_b_output = solution_b(input=input)\n",
    "print(\"Part B solution:\", solution_b_output,'\\n'+\"-\"*60)\n",
    "submit(solution_b_output, day=6, year=2024, part=\"b\")"
   ]
  }
 ],
 "metadata": {
  "kernelspec": {
   "display_name": ".venv",
   "language": "python",
   "name": "python3"
  },
  "language_info": {
   "codemirror_mode": {
    "name": "ipython",
    "version": 3
   },
   "file_extension": ".py",
   "mimetype": "text/x-python",
   "name": "python",
   "nbconvert_exporter": "python",
   "pygments_lexer": "ipython3",
   "version": "3.11.9"
  }
 },
 "nbformat": 4,
 "nbformat_minor": 2
}
