{
 "cells": [
  {
   "cell_type": "markdown",
   "metadata": {},
   "source": [
    "# Setup"
   ]
  },
  {
   "cell_type": "code",
   "execution_count": null,
   "metadata": {},
   "outputs": [],
   "source": [
    "from dotenv import load_dotenv\n",
    "\n",
    "_ = load_dotenv()"
   ]
  },
  {
   "cell_type": "code",
   "execution_count": null,
   "metadata": {},
   "outputs": [],
   "source": [
    "from aocd import submit\n",
    "from aocd.models import Puzzle"
   ]
  },
  {
   "cell_type": "code",
   "execution_count": null,
   "metadata": {},
   "outputs": [],
   "source": [
    "puzzle = Puzzle(year=2024, day=8)"
   ]
  },
  {
   "cell_type": "code",
   "execution_count": null,
   "metadata": {},
   "outputs": [],
   "source": [
    "example_input, example_soln_a, example_soln_b = puzzle.examples[0].input_data, *puzzle.examples[0].answers\n",
    "input = puzzle.input_data"
   ]
  },
  {
   "cell_type": "markdown",
   "metadata": {},
   "source": [
    "# Part A"
   ]
  },
  {
   "cell_type": "code",
   "execution_count": null,
   "metadata": {},
   "outputs": [],
   "source": [
    "def solution_a(input: str):\n",
    "    lines = input.split(\"\\n\")\n",
    "    line = [list(line) for line in lines]\n",
    "    frequencies = set(input.replace(\"\\n\", \"\").replace(\".\", \"\"))\n",
    "    antinodes = set()\n",
    "    for frequency in frequencies:\n",
    "        antenna_locations = [(x, y) for y in range(len(line)) for x in range(len(line[y])) if line[y][x] == frequency]\n",
    "        for i in range(len(antenna_locations)):\n",
    "            for j in range(i):\n",
    "                delta = (antenna_locations[i][0] - antenna_locations[j][0], antenna_locations[i][1] - antenna_locations[j][1])\n",
    "                node_plus = (antenna_locations[i][0] + delta[0], antenna_locations[i][1] + delta[1])\n",
    "                node_minus = (antenna_locations[j][0] - delta[0], antenna_locations[j][1] - delta[1])\n",
    "                if 0 <= node_plus[1] < len(lines):\n",
    "                    if 0 <= node_plus[0] < len(line[node_plus[1]]):\n",
    "                        antinodes = antinodes | set([node_plus])\n",
    "                if 0 <= node_minus[1] < len(lines):\n",
    "                    if 0 <= node_minus[0] < len(line[node_minus[1]]):\n",
    "                        antinodes = antinodes | set([node_minus])\n",
    "\n",
    "    return len(antinodes)"
   ]
  },
  {
   "cell_type": "code",
   "execution_count": null,
   "metadata": {},
   "outputs": [],
   "source": [
    "print(\"Part A example solution:\", solution_a(input=example_input))\n",
    "print(\"Part A example answer:\", example_soln_a)"
   ]
  },
  {
   "cell_type": "code",
   "execution_count": null,
   "metadata": {},
   "outputs": [],
   "source": [
    "solution_a_output = solution_a(input=input)\n",
    "print(\"Part A solution:\", solution_a_output,'\\n'+\"-\"*60)\n",
    "submit(solution_a_output, day=8, year=2024, part=\"a\")"
   ]
  },
  {
   "cell_type": "markdown",
   "metadata": {},
   "source": [
    "# Part B"
   ]
  },
  {
   "cell_type": "code",
   "execution_count": null,
   "metadata": {},
   "outputs": [],
   "source": [
    "def solution_b(input: str):\n",
    "    lines = input.split(\"\\n\")\n",
    "    line = [list(line) for line in lines]\n",
    "    frequencies = set(input.replace(\"\\n\", \"\").replace(\".\", \"\"))\n",
    "    antinodes = set()\n",
    "    for frequency in frequencies:\n",
    "        antenna_locations = [(x, y) for y in range(len(line)) for x in range(len(line[y])) if line[y][x] == frequency]\n",
    "        for i in range(len(antenna_locations)):\n",
    "            for j in range(i):\n",
    "                delta = (antenna_locations[i][0] - antenna_locations[j][0], antenna_locations[i][1] - antenna_locations[j][1])\n",
    "                node_plus = (antenna_locations[i][0], antenna_locations[i][1])\n",
    "                node_minus = (antenna_locations[j][0], antenna_locations[j][1])\n",
    "                while 0 <= node_plus[1] < len(lines):\n",
    "                    if 0 <= node_plus[0] < len(line[node_plus[1]]):\n",
    "                        antinodes = antinodes | set([node_plus])\n",
    "                        node_plus = (node_plus[0] + delta[0], node_plus[1] + delta[1])\n",
    "                    else:\n",
    "                        break\n",
    "                while 0 <= node_minus[1] < len(lines):\n",
    "                    if 0 <= node_minus[0] < len(line[node_minus[1]]):\n",
    "                        antinodes = antinodes | set([node_minus])\n",
    "                        node_minus = (node_minus[0] - delta[0], node_minus[1] - delta[1])\n",
    "                    else:\n",
    "                        break\n",
    "\n",
    "    return len(antinodes)"
   ]
  },
  {
   "cell_type": "code",
   "execution_count": null,
   "metadata": {},
   "outputs": [],
   "source": [
    "print(\"Part B example solution:\", solution_b(input=example_input))\n",
    "print(\"Part B example answer:\", example_soln_b)"
   ]
  },
  {
   "cell_type": "code",
   "execution_count": null,
   "metadata": {},
   "outputs": [],
   "source": [
    "solution_b_output = solution_b(input=input)\n",
    "print(\"Part B solution:\", solution_b_output,'\\n'+\"-\"*60)\n",
    "submit(solution_b_output, day=8, year=2024, part=\"b\")"
   ]
  }
 ],
 "metadata": {
  "kernelspec": {
   "display_name": ".venv",
   "language": "python",
   "name": "python3"
  },
  "language_info": {
   "codemirror_mode": {
    "name": "ipython",
    "version": 3
   },
   "file_extension": ".py",
   "mimetype": "text/x-python",
   "name": "python",
   "nbconvert_exporter": "python",
   "pygments_lexer": "ipython3",
   "version": "3.12.3"
  }
 },
 "nbformat": 4,
 "nbformat_minor": 2
}
