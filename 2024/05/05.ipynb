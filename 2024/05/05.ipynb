{
 "cells": [
  {
   "cell_type": "markdown",
   "metadata": {},
   "source": [
    "# Setup"
   ]
  },
  {
   "cell_type": "code",
   "execution_count": null,
   "metadata": {},
   "outputs": [],
   "source": [
    "from dotenv import load_dotenv\n",
    "\n",
    "_ = load_dotenv()"
   ]
  },
  {
   "cell_type": "code",
   "execution_count": null,
   "metadata": {},
   "outputs": [],
   "source": [
    "from aocd import submit\n",
    "from aocd.models import Puzzle"
   ]
  },
  {
   "cell_type": "code",
   "execution_count": null,
   "metadata": {},
   "outputs": [],
   "source": [
    "puzzle = Puzzle(year=2024, day=5)"
   ]
  },
  {
   "cell_type": "code",
   "execution_count": null,
   "metadata": {},
   "outputs": [],
   "source": [
    "example_input, example_soln_a, example_soln_b = puzzle.examples[0].input_data, *puzzle.examples[0].answers\n",
    "input = puzzle.input_data"
   ]
  },
  {
   "cell_type": "markdown",
   "metadata": {},
   "source": [
    "# Part A"
   ]
  },
  {
   "cell_type": "code",
   "execution_count": null,
   "metadata": {},
   "outputs": [],
   "source": [
    "def solution_a(input: str):\n",
    "    rules, updates = input.split(\"\\n\\n\")\n",
    "    rules = rules.split(\"\\n\")\n",
    "    key_before_value = {}\n",
    "    key_after_value = {}\n",
    "    for before, after in map(lambda x: x.split(\"|\"), rules):\n",
    "        key_before_value[before] = key_before_value.get(before, []) + [after]\n",
    "        key_after_value[after] = key_after_value.get(after, []) + [before]\n",
    "    \n",
    "    output = 0\n",
    "    updates = updates.split(\"\\n\")\n",
    "    updates = [update.split(\",\") for update in updates]\n",
    "    for update in updates:\n",
    "        valid = 1\n",
    "        for i, page_num in enumerate(update):\n",
    "            if page_num in sum(map(lambda x: key_after_value.get(x, []), update[:i]), start=[]) or page_num in sum(map(lambda x: key_before_value.get(x, []), update[i+1:]), start=[]):\n",
    "                valid = 0\n",
    "        if valid == 1:\n",
    "            if len(update) % 2 == 1:\n",
    "                output += int(update[int((len(update) - 1) / 2)])\n",
    "    \n",
    "    return output\n",
    "        "
   ]
  },
  {
   "cell_type": "code",
   "execution_count": null,
   "metadata": {},
   "outputs": [],
   "source": [
    "print(\"Part A example solution:\", solution_a(input=example_input))\n",
    "print(\"Part A example answer:\", example_soln_a)"
   ]
  },
  {
   "cell_type": "code",
   "execution_count": null,
   "metadata": {},
   "outputs": [],
   "source": [
    "solution_a_output = solution_a(input=input)\n",
    "print(\"Part A solution:\", solution_a_output,'\\n'+\"-\"*60)\n",
    "submit(solution_a_output, day=5, year=2024, part=\"a\")"
   ]
  },
  {
   "cell_type": "markdown",
   "metadata": {},
   "source": [
    "# Part B"
   ]
  },
  {
   "cell_type": "code",
   "execution_count": null,
   "metadata": {},
   "outputs": [],
   "source": [
    "def solution_b(input: str):\n",
    "    rules, updates = input.split(\"\\n\\n\")\n",
    "    rules = rules.split(\"\\n\")\n",
    "    key_before_value = {}\n",
    "    key_after_value = {}\n",
    "    for before, after in map(lambda x: x.split(\"|\"), rules):\n",
    "        key_before_value[before] = key_before_value.get(before, []) + [after]\n",
    "        key_after_value[after] = key_after_value.get(after, []) + [before]\n",
    "    \n",
    "    output = 0\n",
    "    updates = updates.split(\"\\n\")\n",
    "    updates = [update.split(\",\") for update in updates]\n",
    "\n",
    "    def comparator(x, y):\n",
    "        if x in key_after_value.get(y, []):\n",
    "            return -1\n",
    "        elif y in key_after_value.get(x, []):\n",
    "            return 1\n",
    "        else:\n",
    "            return 0\n",
    "\n",
    "    from functools import cmp_to_key\n",
    "\n",
    "    for update in updates:\n",
    "        valid = 1\n",
    "        for i, page_num in enumerate(update):\n",
    "            if page_num in sum(map(lambda x: key_after_value.get(x, []), update[:i]), start=[]) or page_num in sum(map(lambda x: key_before_value.get(x, []), update[i+1:]), start=[]):\n",
    "                valid = 0\n",
    "        update = sorted(update, key=cmp_to_key(comparator))\n",
    "        if valid == 0:\n",
    "            if len(update) % 2 == 1:\n",
    "                output += int(update[int((len(update) - 1) / 2)])\n",
    "    \n",
    "    return output\n",
    "        "
   ]
  },
  {
   "cell_type": "code",
   "execution_count": null,
   "metadata": {},
   "outputs": [],
   "source": [
    "print(\"Part B example solution:\", solution_b(input=example_input))\n",
    "print(\"Part B example answer:\", example_soln_b)"
   ]
  },
  {
   "cell_type": "code",
   "execution_count": null,
   "metadata": {},
   "outputs": [],
   "source": [
    "solution_b_output = solution_b(input=input)\n",
    "print(\"Part B solution:\", solution_b_output,'\\n'+\"-\"*60)\n",
    "submit(solution_b_output, day=5, year=2024, part=\"b\")"
   ]
  }
 ],
 "metadata": {
  "kernelspec": {
   "display_name": ".venv",
   "language": "python",
   "name": "python3"
  },
  "language_info": {
   "codemirror_mode": {
    "name": "ipython",
    "version": 3
   },
   "file_extension": ".py",
   "mimetype": "text/x-python",
   "name": "python",
   "nbconvert_exporter": "python",
   "pygments_lexer": "ipython3",
   "version": "3.11.9"
  }
 },
 "nbformat": 4,
 "nbformat_minor": 2
}
