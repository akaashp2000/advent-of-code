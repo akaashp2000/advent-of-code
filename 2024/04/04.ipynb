{
 "cells": [
  {
   "cell_type": "markdown",
   "metadata": {},
   "source": [
    "# Setup"
   ]
  },
  {
   "cell_type": "code",
   "execution_count": null,
   "metadata": {},
   "outputs": [],
   "source": [
    "from dotenv import load_dotenv\n",
    "\n",
    "_ = load_dotenv()"
   ]
  },
  {
   "cell_type": "code",
   "execution_count": null,
   "metadata": {},
   "outputs": [],
   "source": [
    "from aocd import submit\n",
    "from aocd.models import Puzzle"
   ]
  },
  {
   "cell_type": "code",
   "execution_count": null,
   "metadata": {},
   "outputs": [],
   "source": [
    "puzzle = Puzzle(year=2024, day=4)"
   ]
  },
  {
   "cell_type": "code",
   "execution_count": null,
   "metadata": {},
   "outputs": [],
   "source": [
    "example_input, example_soln_a, example_soln_b = puzzle.examples[0].input_data, *puzzle.examples[0].answers\n",
    "input = puzzle.input_data"
   ]
  },
  {
   "cell_type": "markdown",
   "metadata": {},
   "source": [
    "# Part A"
   ]
  },
  {
   "cell_type": "code",
   "execution_count": null,
   "metadata": {},
   "outputs": [],
   "source": [
    "def solution_a(input: str):\n",
    "    lines = [list(line) for line in input.splitlines()]\n",
    "    height = len(lines)\n",
    "    width = len(lines[0])\n",
    "    vertical = 0\n",
    "    horizontal = 0\n",
    "    upper_diagonal = 0\n",
    "    lower_diagonal = 0\n",
    "    for x in range(0, width):\n",
    "        for y in range(0, height):\n",
    "            if x + 4 <= width:\n",
    "                horizontal += 1 if lines[y][x:x+4] == [\"X\", \"M\", \"A\", \"S\"] or lines[y][x:x+4] == [\"S\", \"A\", \"M\", \"X\"] else 0\n",
    "            if y + 4 <= height:\n",
    "                vertical += 1 if [lines[y+i][x] for i in range(4)] == [\"X\", \"M\", \"A\", \"S\"] or [lines[y+i][x] for i in range(4)] == [\"S\", \"A\", \"M\", \"X\"] else 0\n",
    "            if x + 4 <= width and y + 4 <= height:\n",
    "                upper_diagonal += 1 if [lines[y+i][x+i] for i in range(4)] == [\"X\", \"M\", \"A\", \"S\"] or [lines[y+i][x+i] for i in range(4)] == [\"S\", \"A\", \"M\", \"X\"] else 0\n",
    "            if x - 3 >= 0 and y + 4 <= height:\n",
    "                lower_diagonal += 1 if [lines[y+i][x-i] for i in range(4)] == [\"X\", \"M\", \"A\", \"S\"] or [lines[y+i][x-i] for i in range(4)] == [\"S\", \"A\", \"M\", \"X\"] else 0\n",
    "    return vertical + horizontal + upper_diagonal + lower_diagonal"
   ]
  },
  {
   "cell_type": "code",
   "execution_count": null,
   "metadata": {},
   "outputs": [],
   "source": [
    "print(\"Part A example solution:\", solution_a(input=example_input))\n",
    "print(\"Part A example answer:\", example_soln_a)"
   ]
  },
  {
   "cell_type": "code",
   "execution_count": null,
   "metadata": {},
   "outputs": [],
   "source": [
    "solution_a_output = solution_a(input=input)\n",
    "print(\"Part A solution:\", solution_a_output,'\\n'+\"-\"*60)\n",
    "submit(solution_a_output, day=4, year=2024, part=\"a\")"
   ]
  },
  {
   "cell_type": "markdown",
   "metadata": {},
   "source": [
    "# Part B"
   ]
  },
  {
   "cell_type": "code",
   "execution_count": null,
   "metadata": {},
   "outputs": [],
   "source": [
    "def solution_b(input: str):\n",
    "    lines = [list(line) for line in input.splitlines()]\n",
    "    height = len(lines)\n",
    "    width = len(lines[0])\n",
    "    diaganol = 0\n",
    "    for x in range(0, width):\n",
    "        for y in range(0, height):\n",
    "            if x + 3 <= width and y + 3 <= height:\n",
    "                diaganol += 1 if ([lines[y+i][x+i] for i in range(3)] == [\"M\", \"A\", \"S\"] or [lines[y+i][x+i] for i in range(3)] == [\"S\", \"A\", \"M\"]) and ([lines[y+2-i][x+i] for i in range(3)] == [\"M\", \"A\", \"S\"] or [lines[y+2-i][x+i] for i in range(3)] == [\"S\", \"A\", \"M\"]) else 0\n",
    "    return diaganol"
   ]
  },
  {
   "cell_type": "code",
   "execution_count": null,
   "metadata": {},
   "outputs": [],
   "source": [
    "print(\"Part B example solution:\", solution_b(input=example_input))\n",
    "print(\"Part B example answer:\", example_soln_b)"
   ]
  },
  {
   "cell_type": "code",
   "execution_count": null,
   "metadata": {},
   "outputs": [],
   "source": [
    "solution_b_output = solution_b(input=input)\n",
    "print(\"Part B solution:\", solution_b_output,'\\n'+\"-\"*60)\n",
    "submit(solution_b_output, day=4, year=2024, part=\"b\")"
   ]
  }
 ],
 "metadata": {
  "kernelspec": {
   "display_name": ".venv",
   "language": "python",
   "name": "python3"
  },
  "language_info": {
   "codemirror_mode": {
    "name": "ipython",
    "version": 3
   },
   "file_extension": ".py",
   "mimetype": "text/x-python",
   "name": "python",
   "nbconvert_exporter": "python",
   "pygments_lexer": "ipython3",
   "version": "3.11.9"
  }
 },
 "nbformat": 4,
 "nbformat_minor": 2
}
